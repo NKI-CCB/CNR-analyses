{
 "cells": [
  {
   "cell_type": "markdown",
   "metadata": {
    "toc": true
   },
   "source": [
    "<h1>Table of Contents<span class=\"tocSkip\"></span></h1>\n",
    "<div class=\"toc\"><ul class=\"toc-item\"><li><span><a href=\"#Background\" data-toc-modified-id=\"Background-1\"><span class=\"toc-item-num\">1&nbsp;&nbsp;</span>Background</a></span></li><li><span><a href=\"#Data-preparation\" data-toc-modified-id=\"Data-preparation-2\"><span class=\"toc-item-num\">2&nbsp;&nbsp;</span>Data preparation</a></span></li><li><span><a href=\"#Network-reconstuction\" data-toc-modified-id=\"Network-reconstuction-3\"><span class=\"toc-item-num\">3&nbsp;&nbsp;</span>Network reconstuction</a></span><ul class=\"toc-item\"><li><span><a href=\"#Ras-&amp;-WT-panel\" data-toc-modified-id=\"Ras-&amp;-WT-panel-3.1\"><span class=\"toc-item-num\">3.1&nbsp;&nbsp;</span>Ras &amp; WT panel</a></span></li><li><span><a href=\"#BRAF-&amp;-WT\" data-toc-modified-id=\"BRAF-&amp;-WT-3.2\"><span class=\"toc-item-num\">3.2&nbsp;&nbsp;</span>BRAF &amp; WT</a></span></li><li><span><a href=\"#EGFR-&amp;-WT\" data-toc-modified-id=\"EGFR-&amp;-WT-3.3\"><span class=\"toc-item-num\">3.3&nbsp;&nbsp;</span>EGFR &amp; WT</a></span></li></ul></li><li><span><a href=\"#Generate-graphs\" data-toc-modified-id=\"Generate-graphs-4\"><span class=\"toc-item-num\">4&nbsp;&nbsp;</span>Generate graphs</a></span><ul class=\"toc-item\"><li><span><a href=\"#Braf-&amp;-WT-panel\" data-toc-modified-id=\"Braf-&amp;-WT-panel-4.1\"><span class=\"toc-item-num\">4.1&nbsp;&nbsp;</span>Braf &amp; WT panel</a></span></li><li><span><a href=\"#Ras-&amp;-WT-panel\" data-toc-modified-id=\"Ras-&amp;-WT-panel-4.2\"><span class=\"toc-item-num\">4.2&nbsp;&nbsp;</span>Ras &amp; WT panel</a></span></li><li><span><a href=\"#EGFR-&amp;-WT-panel\" data-toc-modified-id=\"EGFR-&amp;-WT-panel-4.3\"><span class=\"toc-item-num\">4.3&nbsp;&nbsp;</span>EGFR &amp; WT panel</a></span></li><li><span><a href=\"#True-topology\" data-toc-modified-id=\"True-topology-4.4\"><span class=\"toc-item-num\">4.4&nbsp;&nbsp;</span>True topology</a></span></li></ul></li></ul></div>"
   ]
  },
  {
   "cell_type": "markdown",
   "metadata": {},
   "source": [
    "# Background\n",
    "\n",
    "In this notebook we prepare the graphs comparing the model reconstructions of the different cell lines. We select sensible hyperparameters based on analyses of their influence on the reconstuction quality.\n",
    "\n",
    "# Data preparation"
   ]
  },
  {
   "cell_type": "markdown",
   "metadata": {},
   "source": [
    "Load the required modules/packages."
   ]
  },
  {
   "cell_type": "code",
   "execution_count": 1,
   "metadata": {},
   "outputs": [],
   "source": [
    "import os\n",
    "import sys\n",
    "\n",
    "import random\n",
    "import pickle\n",
    "import pandas as pd\n",
    "import networkx as nx\n",
    "import re\n",
    "\n",
    "import cnr\n",
    "import cnr.cnrplot\n",
    "import numpy as np\n",
    "\n",
    "from mypyutils import utils\n",
    "\n",
    "import seaborn as sns\n",
    "\n",
    "%matplotlib inline\n",
    "%load_ext autoreload\n",
    "%autoreload 2"
   ]
  },
  {
   "cell_type": "markdown",
   "metadata": {},
   "source": [
    "Load the results of the simulated perturbations."
   ]
  },
  {
   "cell_type": "code",
   "execution_count": 2,
   "metadata": {},
   "outputs": [],
   "source": [
    "# ----------------------------------------------------------------------------\n",
    "# Inputs\n",
    "\n",
    "# Interaction map/model topology\n",
    "f_imap = \"results/simulations/imap.tsv\"\n",
    "REF_IMAP = pd.read_csv(f_imap, sep='\\t', index_col=0)\n",
    "\n",
    "# Global response matrices\n",
    "fSimResults = 'results/simulations/ortonModel-knockdown-mutWT.tsv'\n",
    "fSimResults_mutRAS = 'results/simulations/ortonModel-knockdown-mutRAS.tsv'\n",
    "fSimResults_mutBRAF = 'results/simulations/ortonModel-knockdown-mutBRAF.tsv'\n",
    "fSimResults_mutEGFR = 'results/simulations/ortonModel-knockdown-mutEGFR.tsv'\n",
    "\n",
    "rglob_wt   = pd.read_csv(fSimResults, sep='\\t', index_col=0)\n",
    "rglob_ras  = pd.read_csv(fSimResults_mutRAS, sep='\\t', index_col=0)\n",
    "rglob_braf = pd.read_csv(fSimResults_mutBRAF, sep='\\t', index_col=0)\n",
    "rglob_egfr = pd.read_csv(fSimResults_mutEGFR, sep='\\t', index_col=0)\n",
    "\n",
    "# Local response matrices\n",
    "fSimResults_rloc = 'results/simulations/ortonModel-knockdown-mutWT-rloc.tsv'\n",
    "fSimResults_mutRAS_rloc = 'results/simulations/ortonModel-knockdown-mutRAS-rloc.tsv'\n",
    "fSimResults_mutBRAF_rloc = 'results/simulations/ortonModel-knockdown-mutBRAF-rloc.tsv'\n",
    "fSimResults_mutEGFR_rloc = 'results/simulations/ortonModel-knockdown-mutEGFR-rloc.tsv'\n",
    "\n",
    "rloc_wt   = pd.read_csv(fSimResults_rloc, sep='\\t', index_col=0)\n",
    "rloc_ras  = pd.read_csv(fSimResults_mutRAS_rloc, sep='\\t', index_col=0)\n",
    "rloc_braf = pd.read_csv(fSimResults_mutBRAF_rloc, sep='\\t', index_col=0)\n",
    "rloc_egfr = pd.read_csv(fSimResults_mutEGFR_rloc, sep='\\t', index_col=0)\n",
    "\n",
    "true_rloc_dict = {\"wt\": rloc_wt, \"ras\": rloc_ras, \"braf\": rloc_braf, \"egfr\": rloc_egfr }\n",
    "\n",
    "# Perturbation matrices\n",
    "fSimResults_rpert = 'results/simulations/ortonModel-knockdown-mutWT-rpert.tsv'\n",
    "fSimResults_mutRAS_rpert = 'results/simulations/ortonModel-knockdown-mutRAS-rpert.tsv'\n",
    "fSimResults_mutBRAF_rpert = 'results/simulations/ortonModel-knockdown-mutBRAF-rpert.tsv'\n",
    "fSimResults_mutEGFR_rpert = 'results/simulations/ortonModel-knockdown-mutEGFR-rpert.tsv'\n",
    "\n",
    "rpert_wt   = pd.read_csv(fSimResults_rpert, sep='\\t', index_col=0)\n",
    "rpert_ras  = pd.read_csv(fSimResults_mutRAS_rpert, sep='\\t', index_col=0)\n",
    "rpert_braf = pd.read_csv(fSimResults_mutBRAF_rpert, sep='\\t', index_col=0)\n",
    "rpert_egfr = pd.read_csv(fSimResults_mutEGFR_rpert, sep='\\t', index_col=0)\n",
    "\n",
    "true_rpert_dict = {\"wt\": rpert_wt, \"ras\": rpert_ras, \"braf\": rpert_braf, \"egfr\": rpert_egfr}"
   ]
  },
  {
   "cell_type": "markdown",
   "metadata": {},
   "source": [
    "Cast the simulation is usable format.\n",
    "\n",
    "Remove spurious information from node names."
   ]
  },
  {
   "cell_type": "code",
   "execution_count": 3,
   "metadata": {},
   "outputs": [],
   "source": [
    "def rename_indices(df):\n",
    "    df.index = [re.sub(\"Active|bound|eceptor\", \"\", s).upper() for s in df.index]\n",
    "    df.columns = [re.sub(\"Active|bound|eceptor\", \"\", s).upper() for s in df.columns]\n",
    "    df.columns = [s.replace(\"KNOCKDOWN\", \" KD\").upper() for s in df.columns]\n",
    "\n",
    "rename_indices(rglob_wt)\n",
    "rename_indices(rglob_ras)\n",
    "rename_indices(rglob_braf)\n",
    "rename_indices(rglob_egfr)\n",
    "rename_indices(REF_IMAP)\n",
    "\n",
    "rename_indices(rloc_wt)\n",
    "rename_indices(rloc_ras)\n",
    "rename_indices(rloc_braf)\n",
    "rename_indices(rloc_egfr)\n"
   ]
  },
  {
   "cell_type": "code",
   "execution_count": 4,
   "metadata": {},
   "outputs": [],
   "source": [
    "# Round the rglob matrices to prevent numerical instabilities\n",
    "rglob_wt   = np.round(rglob_wt, 3)\n",
    "rglob_ras  = np.round(rglob_ras, 3)\n",
    "rglob_braf = np.round(rglob_braf, 3)\n",
    "rglob_egfr = np.round(rglob_egfr, 3)\n",
    "\n",
    "rglob_dict = {\n",
    "    'wt': rglob_wt, \n",
    "    'ras': rglob_ras, \n",
    "    'braf':rglob_braf, \n",
    "    'egfr': rglob_egfr\n",
    "}\n",
    "random.seed(29121982)\n",
    "rglob_dict_noise = {\n",
    "    'wt': utils.add_noise(rglob_wt, 0.1), \n",
    "    'ras': utils.add_noise(rglob_ras, 0.1),\n",
    "    'braf':utils.add_noise(rglob_braf, 0.1),\n",
    "    'egfr': utils.add_noise(rglob_egfr, 0.1)\n",
    "}\n",
    "\n",
    "\n",
    "REF_NODES = list(rglob_wt.index)\n",
    "REF_NODES == list(rglob_wt.index)  == list(rglob_braf.index)\n",
    "\n",
    "#None of the perturbations is acting downstream.\n",
    "DOWNSTREAM_ACTING_PERTS = [] \n",
    "PERTURBATIONS = [[s] for s in rglob_wt.columns]\n",
    "INHIBITOR_TARGETS = {x:x.replace(' KD', \"\") for x in rglob_wt.columns}"
   ]
  },
  {
   "cell_type": "markdown",
   "metadata": {},
   "source": [
    "Plot the input data"
   ]
  },
  {
   "cell_type": "code",
   "execution_count": 5,
   "metadata": {},
   "outputs": [
    {
     "data": {
      "image/png": "[encoded data removed]",
      "text/plain": [
       "<Figure size 1080x254.118 with 5 Axes>"
      ]
     },
     "metadata": {},
     "output_type": "display_data"
    }
   ],
   "source": [
    "cnr.cnrplot.heatmap_cnr(rglob_dict)"
   ]
  },
  {
   "cell_type": "markdown",
   "metadata": {},
   "source": [
    "# Network reconstuction\n",
    "\n",
    "Generate the PerturbationPanel objects"
   ]
  },
  {
   "cell_type": "code",
   "execution_count": 6,
   "metadata": {},
   "outputs": [],
   "source": [
    "panel_all = cnr.PerturbationPanel(\n",
    "    REF_NODES, PERTURBATIONS, INHIBITOR_TARGETS, [], rglob_dict\n",
    ")\n",
    "\n",
    "# Without noise\n",
    "\n",
    "# Panels with mutant + wt\n",
    "panel_ras_wt = cnr.PerturbationPanel(\n",
    "    REF_NODES, PERTURBATIONS, INHIBITOR_TARGETS, [], \n",
    "    {key: val for key, val in rglob_dict.items() if key in {'wt', 'ras'}} \n",
    ")\n",
    "\n",
    "panel_braf_wt = cnr.PerturbationPanel(\n",
    "    REF_NODES, PERTURBATIONS, INHIBITOR_TARGETS, [],\n",
    "    {key: val for key, val in rglob_dict.items() if key in {'wt', 'braf'}} \n",
    ")\n",
    "panel_egfr_wt = cnr.PerturbationPanel(\n",
    "    REF_NODES, PERTURBATIONS, INHIBITOR_TARGETS, [],\n",
    "    {key: val for key, val in rglob_dict.items() if key in {'wt', 'egfr'}} \n",
    ")\n",
    "\n",
    "panel_all = cnr.PerturbationPanel(\n",
    "    REF_NODES, PERTURBATIONS, INHIBITOR_TARGETS, [], rglob_dict\n",
    ")\n",
    "\n",
    "# With noise\n",
    "\n",
    "# Panels with mutant + wt\n",
    "panel_ras_wt_noise = cnr.PerturbationPanel(\n",
    "    REF_NODES, PERTURBATIONS, INHIBITOR_TARGETS, [], \n",
    "    {key: val for key, val in rglob_dict_noise.items() if key in {'wt', 'ras'}} \n",
    ")\n",
    "\n",
    "panel_braf_wt_noise = cnr.PerturbationPanel(\n",
    "    REF_NODES, PERTURBATIONS, INHIBITOR_TARGETS, [],\n",
    "    {key: val for key, val in rglob_dict_noise.items() if key in {'wt', 'braf'}} \n",
    ")\n",
    "panel_egfr_wt_noise = cnr.PerturbationPanel(\n",
    "    REF_NODES, PERTURBATIONS, INHIBITOR_TARGETS, [],\n",
    "    {key: val for key, val in rglob_dict_noise.items() if key in {'wt', 'egfr'}} \n",
    ")"
   ]
  },
  {
   "cell_type": "markdown",
   "metadata": {},
   "source": [
    "Set the relevant parameter values and helper functions."
   ]
  },
  {
   "cell_type": "code",
   "execution_count": 7,
   "metadata": {},
   "outputs": [],
   "source": [
    "THETA = 0.01\n",
    "ETA = 0.005\n",
    "\n",
    "\n",
    "def tpr(imap, ref_imap):\n",
    "    tp = ((imap == 1) & (ref_imap == 1)).sum().sum()\n",
    "    p = ref_imap.sum().sum()\n",
    "    return(tp/p)\n",
    "\n",
    "def fpr(imap, ref_imap):\n",
    "    fp = ((imap == 1) & (ref_imap == 0)).sum().sum()\n",
    "    n = (ref_imap == 0).sum().sum() - REF_IMAP.shape[0] # Subtract diagonal from # of negatives\n",
    "    return(fp/n)\n",
    "\n",
    "\n",
    "def get_param_df(sol, true_rpert_dict, true_rloc_dict):\n",
    "    df_lst = []\n",
    "    for cl in sol.cell_lines:\n",
    "        \n",
    "        # Get rloc and add to list    \n",
    "        rl = np.array(sol.rloc[cl]) + np.identity(12)\n",
    "        nz_rloc = np.nonzero(rl)\n",
    "        # Select the corresponding true parameters \n",
    "        trl = np.array(true_rloc_dict[cl])[nz_rloc]\n",
    "        # add df to list\n",
    "        df_lst.append(\n",
    "            pd.DataFrame({\n",
    "                \"cl\": cl, \"param\": \"rloc\",\n",
    "                \"cnr\": rl[nz_rloc],\"true\": trl}\n",
    "            )\n",
    "        )\n",
    "\n",
    "        # Select non-zero reconstructed parameters (rloc and rpert)\n",
    "        rp = np.array(sol.rpert[cl])\n",
    "        nz_pert = np.nonzero(rp)    \n",
    "        # Select the corresponding true parameters \n",
    "        trp = np.array(true_rpert_dict[cl])[nz_pert]\n",
    "        df_lst.append(\n",
    "            pd.DataFrame({\n",
    "                \"cl\": cl, \"param\": \"rpert\",\n",
    "                \"cnr\": rp[nz_pert], \"true\": trp\n",
    "            })\n",
    "        )\n",
    "    \n",
    "    return pd.concat(df_lst)\n"
   ]
  },
  {
   "cell_type": "code",
   "execution_count": 8,
   "metadata": {},
   "outputs": [],
   "source": [
    "col_dict = dict(zip(\n",
    "    [\"braf_wt\", \"braf\", \"ras_wt\",\"ras\", \"egfr_wt\", \"egfr\"],\n",
    "    sns.color_palette(\"Paired\")\n",
    "))\n",
    "col_dict[\"wt\"] = \"#95a5a6\"\n",
    "col_dict[\"all\"] = \"#9b59b6\"\n",
    "\n"
   ]
  },
  {
   "cell_type": "markdown",
   "metadata": {},
   "source": [
    "## Ras & WT panel"
   ]
  },
  {
   "cell_type": "code",
   "execution_count": 9,
   "metadata": {},
   "outputs": [
    {
     "name": "stdout",
     "output_type": "stream",
     "text": [
      "CPXPARAM_Read_DataCheck                          1\n",
      "Found incumbent of value 9.114724 after 0.00 sec. (0.08 ticks)\n",
      "Tried aggregator 2 times.\n",
      "MIQP Presolve eliminated 132 rows and 1 columns.\n",
      "MIQP Presolve modified 144 coefficients.\n",
      "Aggregator did 144 substitutions.\n",
      "Reduced MIQP has 564 rows, 996 columns, and 2757 nonzeros.\n",
      "Reduced MIQP has 276 binaries, 0 generals, 0 SOSs, and 552 indicators.\n",
      "Reduced MIQP objective Q matrix has 288 nonzeros.\n",
      "Presolve time = 0.01 sec. (1.83 ticks)\n",
      "Probing time = 0.00 sec. (0.18 ticks)\n",
      "Tried aggregator 1 time.\n",
      "MIQP Presolve eliminated 470 rows and 830 columns.\n",
      "Reduced MIQP has 94 rows, 166 columns, and 449 nonzeros.\n",
      "Reduced MIQP has 46 binaries, 0 generals, 0 SOSs, and 92 indicators.\n",
      "Reduced MIQP objective Q matrix has 48 nonzeros.\n",
      "Presolve time = 0.01 sec. (0.68 ticks)\n",
      "Probing time = 0.00 sec. (0.03 ticks)\n",
      "Tried aggregator 1 time.\n",
      "Reduced MIQP has 94 rows, 166 columns, and 449 nonzeros.\n",
      "Reduced MIQP has 46 binaries, 0 generals, 0 SOSs, and 92 indicators.\n",
      "Reduced MIQP objective Q matrix has 48 nonzeros.\n",
      "Presolve time = 0.00 sec. (0.14 ticks)\n",
      "Probing time = 0.00 sec. (0.03 ticks)\n",
      "Clique table members: 22.\n",
      "MIP emphasis: balance optimality and feasibility.\n",
      "MIP search method: dynamic search.\n",
      "Parallel mode: deterministic, using up to 4 threads.\n",
      "Root relaxation solution time = 0.00 sec. (0.54 ticks)\n",
      "\n",
      "        Nodes                                         Cuts/\n",
      "   Node  Left     Objective  IInf  Best Integer    Best Bound    ItCnt     Gap\n",
      "\n",
      "*     0+    0                            2.1117        0.2181            89.67%\n",
      "      0     0        0.2181    46        2.1117        0.2181        3   89.67%\n",
      "*     0+    0                            1.1931        0.2181            81.72%\n",
      "*     0+    0                            0.2557        0.2181            14.71%\n",
      "\n",
      "Repeating presolve.\n",
      "Tried aggregator 2 times.\n",
      "MIQP Presolve eliminated 58 rows and 107 columns.\n",
      "Aggregator did 15 substitutions.\n",
      "Reduced MIQP has 21 rows, 44 columns, and 158 nonzeros.\n",
      "Reduced MIQP has 11 binaries, 0 generals, 0 SOSs, and 22 indicators.\n",
      "Reduced MIQP objective Q matrix has 24 nonzeros.\n",
      "Presolve time = 0.01 sec. (0.15 ticks)\n",
      "Probing time = 0.00 sec. (0.01 ticks)\n",
      "Tried aggregator 1 time.\n",
      "Reduced MIQP has 21 rows, 44 columns, and 158 nonzeros.\n",
      "Reduced MIQP has 11 binaries, 0 generals, 0 SOSs, and 22 indicators.\n",
      "Reduced MIQP objective Q matrix has 24 nonzeros.\n",
      "Presolve time = 0.02 sec. (0.04 ticks)\n",
      "Represolve time = 0.04 sec. (0.59 ticks)\n",
      "Probing time = 0.00 sec. (0.01 ticks)\n",
      "MIP emphasis: balance optimality and feasibility.\n",
      "MIP search method: dynamic search.\n",
      "Parallel mode: deterministic, using up to 4 threads.\n",
      "Root relaxation solution time = 0.00 sec. (0.42 ticks)\n",
      "\n",
      "        Nodes                                         Cuts/\n",
      "   Node  Left     Objective  IInf  Best Integer    Best Bound    ItCnt     Gap\n",
      "\n",
      "*     0+    0                            0.2557        0.2484             2.85%\n",
      "      0     0        0.2528    11        0.2557        0.2528       17    1.10%\n",
      "      0     0        cutoff              0.2557                     17    0.00%\n",
      "Elapsed time = 0.65 sec. (88.33 ticks, tree = 0.01 MB, solutions = 6)\n",
      "\n",
      "Root node processing (before b&c):\n",
      "  Real time             =    0.66 sec. (88.39 ticks)\n",
      "Parallel b&c, 4 threads:\n",
      "  Real time             =    0.00 sec. (0.00 ticks)\n",
      "  Sync time (average)   =    0.00 sec.\n",
      "  Wait time (average)   =    0.00 sec.\n",
      "                          ------------\n",
      "Total (root+branch&cut) =    0.66 sec. (88.39 ticks)\n",
      "\n",
      "==================================\n",
      "\n",
      "# of edges: 15\n",
      "# of deviation: 9\n",
      "TPR: 0.875\n",
      "FPR: 0.008620689655172414\n",
      "False positives: 1\n"
     ]
    }
   ],
   "source": [
    "p_ras_noise = cnr.CnrProblem(panel_ras_wt_noise, eta=ETA,  theta=THETA)\n",
    "p_ras_noise.cpx.solve()\n",
    "sol_ras_noise = cnr.CnrResult(p_ras_noise)\n",
    "\n",
    "print('\\n==================================\\n')\n",
    "print(\"# of edges: \" + str(sol_ras_noise.imap.sum().sum()))\n",
    "print(\"# of deviation: \" + str(len(sol_ras_noise.deviations_overview().index)))\n",
    "\n",
    "print(\"TPR: \" + str(tpr(sol_ras_noise.imap, REF_IMAP)))\n",
    "print(\"FPR: \" + str(fpr(sol_ras_noise.imap, REF_IMAP)))\n",
    "print(\"False positives: \" + str(((sol_ras_noise.imap - REF_IMAP) == 1).sum().sum()))"
   ]
  },
  {
   "cell_type": "code",
   "execution_count": 10,
   "metadata": {},
   "outputs": [
    {
     "data": {
      "text/html": [
       "<div>\n",
       "<style scoped>\n",
       "    .dataframe tbody tr th:only-of-type {\n",
       "        vertical-align: middle;\n",
       "    }\n",
       "\n",
       "    .dataframe tbody tr th {\n",
       "        vertical-align: top;\n",
       "    }\n",
       "\n",
       "    .dataframe thead th {\n",
       "        text-align: right;\n",
       "    }\n",
       "</style>\n",
       "<table border=\"1\" class=\"dataframe\">\n",
       "  <thead>\n",
       "    <tr style=\"text-align: right;\">\n",
       "      <th></th>\n",
       "      <th>wt</th>\n",
       "      <th>ras</th>\n",
       "      <th>mean</th>\n",
       "    </tr>\n",
       "  </thead>\n",
       "  <tbody>\n",
       "    <tr>\n",
       "      <th>r_BRAF_RAP1</th>\n",
       "      <td>0.972098</td>\n",
       "      <td>0.000162593</td>\n",
       "      <td>0.48613</td>\n",
       "    </tr>\n",
       "    <tr>\n",
       "      <th>r_ERK_MEK</th>\n",
       "      <td>1.12246</td>\n",
       "      <td>0.0670929</td>\n",
       "      <td>0.594778</td>\n",
       "    </tr>\n",
       "    <tr>\n",
       "      <th>r_MEK_BRAF</th>\n",
       "      <td>0.801903</td>\n",
       "      <td>0.0910664</td>\n",
       "      <td>0.446485</td>\n",
       "    </tr>\n",
       "    <tr>\n",
       "      <th>r_P90RSK_ERK</th>\n",
       "      <td>0.792871</td>\n",
       "      <td>0.418862</td>\n",
       "      <td>0.605866</td>\n",
       "    </tr>\n",
       "    <tr>\n",
       "      <th>r_RAF1_AKT</th>\n",
       "      <td>-0.349364</td>\n",
       "      <td>-0.952226</td>\n",
       "      <td>-0.650795</td>\n",
       "    </tr>\n",
       "    <tr>\n",
       "      <th>r_RAS_SOS</th>\n",
       "      <td>0.935609</td>\n",
       "      <td>-0.000505641</td>\n",
       "      <td>0.467552</td>\n",
       "    </tr>\n",
       "    <tr>\n",
       "      <th>rp_BRAF KD_BRAF</th>\n",
       "      <td>-0.320817</td>\n",
       "      <td>-0.81815</td>\n",
       "      <td>-0.569484</td>\n",
       "    </tr>\n",
       "    <tr>\n",
       "      <th>rp_MEK KD_MEK</th>\n",
       "      <td>-0.520995</td>\n",
       "      <td>-0.735937</td>\n",
       "      <td>-0.628466</td>\n",
       "    </tr>\n",
       "    <tr>\n",
       "      <th>rp_RAS KD_RAS</th>\n",
       "      <td>-0.216297</td>\n",
       "      <td>-0.665402</td>\n",
       "      <td>-0.440849</td>\n",
       "    </tr>\n",
       "  </tbody>\n",
       "</table>\n",
       "</div>"
      ],
      "text/plain": [
       "                       wt          ras      mean\n",
       "r_BRAF_RAP1      0.972098  0.000162593   0.48613\n",
       "r_ERK_MEK         1.12246    0.0670929  0.594778\n",
       "r_MEK_BRAF       0.801903    0.0910664  0.446485\n",
       "r_P90RSK_ERK     0.792871     0.418862  0.605866\n",
       "r_RAF1_AKT      -0.349364    -0.952226 -0.650795\n",
       "r_RAS_SOS        0.935609 -0.000505641  0.467552\n",
       "rp_BRAF KD_BRAF -0.320817     -0.81815 -0.569484\n",
       "rp_MEK KD_MEK   -0.520995    -0.735937 -0.628466\n",
       "rp_RAS KD_RAS   -0.216297    -0.665402 -0.440849"
      ]
     },
     "execution_count": 10,
     "metadata": {},
     "output_type": "execute_result"
    }
   ],
   "source": [
    "sol_ras_noise.deviations_overview()"
   ]
  },
  {
   "cell_type": "code",
   "execution_count": 11,
   "metadata": {},
   "outputs": [
    {
     "data": {
      "image/png": "[encoded data removed]",
      "text/plain": [
       "<Figure size 411.5x360 with 1 Axes>"
      ]
     },
     "metadata": {},
     "output_type": "display_data"
    }
   ],
   "source": [
    "df = get_param_df(sol_ras_noise, true_rpert_dict, true_rloc_dict)\n",
    "sns.lmplot(x=\"cnr\", y=\"true\", data=df, hue=\"cl\", fit_reg=False, \n",
    "           palette=col_dict);"
   ]
  },
  {
   "cell_type": "markdown",
   "metadata": {},
   "source": [
    "## BRAF & WT"
   ]
  },
  {
   "cell_type": "code",
   "execution_count": 12,
   "metadata": {},
   "outputs": [
    {
     "name": "stdout",
     "output_type": "stream",
     "text": [
      "CPXPARAM_Read_DataCheck                          1\n",
      "Found incumbent of value 9.754806 after 0.00 sec. (0.07 ticks)\n",
      "Tried aggregator 2 times.\n",
      "MIQP Presolve eliminated 132 rows and 1 columns.\n",
      "MIQP Presolve modified 144 coefficients.\n",
      "Aggregator did 144 substitutions.\n",
      "Reduced MIQP has 564 rows, 996 columns, and 2603 nonzeros.\n",
      "Reduced MIQP has 276 binaries, 0 generals, 0 SOSs, and 552 indicators.\n",
      "Reduced MIQP objective Q matrix has 288 nonzeros.\n",
      "Presolve time = 0.01 sec. (1.81 ticks)\n",
      "Probing time = 0.01 sec. (0.18 ticks)\n",
      "Tried aggregator 1 time.\n",
      "MIQP Presolve eliminated 470 rows and 830 columns.\n",
      "Reduced MIQP has 94 rows, 166 columns, and 447 nonzeros.\n",
      "Reduced MIQP has 46 binaries, 0 generals, 0 SOSs, and 92 indicators.\n",
      "Reduced MIQP objective Q matrix has 48 nonzeros.\n",
      "Presolve time = 0.02 sec. (0.67 ticks)\n",
      "Probing time = 0.00 sec. (0.03 ticks)\n",
      "Tried aggregator 1 time.\n",
      "Reduced MIQP has 94 rows, 166 columns, and 447 nonzeros.\n",
      "Reduced MIQP has 46 binaries, 0 generals, 0 SOSs, and 92 indicators.\n",
      "Reduced MIQP objective Q matrix has 48 nonzeros.\n",
      "Presolve time = 0.01 sec. (0.14 ticks)\n",
      "Probing time = 0.00 sec. (0.03 ticks)\n",
      "Clique table members: 22.\n",
      "MIP emphasis: balance optimality and feasibility.\n",
      "MIP search method: dynamic search.\n",
      "Parallel mode: deterministic, using up to 4 threads.\n",
      "Root relaxation solution time = 0.01 sec. (0.35 ticks)\n",
      "\n",
      "        Nodes                                         Cuts/\n",
      "   Node  Left     Objective  IInf  Best Integer    Best Bound    ItCnt     Gap\n",
      "\n",
      "*     0+    0                            1.1693        0.2262            80.66%\n",
      "      0     0        0.2262    24        1.1693        0.2262        2   80.66%\n",
      "*     0+    0                            0.3306        0.2262            31.59%\n",
      "*     0+    0                            0.2375        0.2262             4.75%\n",
      "\n",
      "Repeating presolve.\n",
      "Tried aggregator 2 times.\n",
      "MIQP Presolve eliminated 22 rows and 44 columns.\n",
      "Aggregator did 24 substitutions.\n",
      "Reduced MIQP has 48 rows, 98 columns, and 333 nonzeros.\n",
      "Reduced MIQP has 24 binaries, 0 generals, 0 SOSs, and 48 indicators.\n",
      "Reduced MIQP objective Q matrix has 48 nonzeros.\n",
      "Presolve time = 0.02 sec. (0.21 ticks)\n",
      "Probing time = 0.00 sec. (0.14 ticks)\n",
      "Tried aggregator 1 time.\n",
      "MIQP Presolve eliminated 24 rows and 49 columns.\n",
      "Reduced MIQP has 24 rows, 49 columns, and 163 nonzeros.\n",
      "Reduced MIQP has 12 binaries, 0 generals, 0 SOSs, and 24 indicators.\n",
      "Reduced MIQP objective Q matrix has 24 nonzeros.\n",
      "Presolve time = 0.02 sec. (0.07 ticks)\n",
      "Probing time = 0.00 sec. (0.04 ticks)\n",
      "Tried aggregator 1 time.\n",
      "Reduced MIQP has 24 rows, 49 columns, and 163 nonzeros.\n",
      "Reduced MIQP has 12 binaries, 0 generals, 0 SOSs, and 24 indicators.\n",
      "Reduced MIQP objective Q matrix has 24 nonzeros.\n",
      "Presolve time = 0.01 sec. (0.04 ticks)\n",
      "Represolve time = 0.10 sec. (3.45 ticks)\n",
      "Probing time = 0.00 sec. (0.04 ticks)\n",
      "MIP emphasis: balance optimality and feasibility.\n",
      "MIP search method: dynamic search.\n",
      "Parallel mode: deterministic, using up to 4 threads.\n",
      "Root relaxation solution time = 0.00 sec. (0.42 ticks)\n",
      "\n",
      "        Nodes                                         Cuts/\n",
      "   Node  Left     Objective  IInf  Best Integer    Best Bound    ItCnt     Gap\n",
      "\n",
      "*     0+    0                            0.2375        0.2316             2.47%\n",
      "      0     0        0.2318    12        0.2375        0.2318       18    2.39%\n",
      "*     0     0      integral     0        0.2375   Impl Bds: 3       37    0.00%\n",
      "      0     0        cutoff              0.2375        0.2375       37    0.00%\n",
      "Elapsed time = 1.09 sec. (69.27 ticks, tree = 0.01 MB, solutions = 4)\n",
      "\n",
      "Root node processing (before b&c):\n",
      "  Real time             =    1.10 sec. (69.34 ticks)\n",
      "Parallel b&c, 4 threads:\n",
      "  Real time             =    0.00 sec. (0.00 ticks)\n",
      "  Sync time (average)   =    0.00 sec.\n",
      "  Wait time (average)   =    0.00 sec.\n",
      "                          ------------\n",
      "Total (root+branch&cut) =    1.10 sec. (69.34 ticks)\n",
      "\n",
      "==================================\n",
      "\n",
      "# of edges: 15\n",
      "# of deviation: 5\n",
      "TPR: 0.8125\n",
      "FPR: 0.017241379310344827\n",
      "False positives: 2\n"
     ]
    }
   ],
   "source": [
    "p_braf_noise = cnr.CnrProblem(panel_braf_wt_noise, eta=ETA,  theta=THETA)\n",
    "p_braf_noise.cpx.solve()\n",
    "sol_braf_noise = cnr.CnrResult(p_braf_noise)\n",
    "\n",
    "print('\\n==================================\\n')\n",
    "print(\"# of edges: \" + str(sol_braf_noise.imap.sum().sum()))\n",
    "print(\"# of deviation: \" + str(len(sol_braf_noise.deviations_overview().index)))\n",
    "\n",
    "print(\"TPR: \" + str(tpr(sol_braf_noise.imap, REF_IMAP)))\n",
    "print(\"FPR: \" + str(fpr(sol_braf_noise.imap, REF_IMAP)))\n",
    "print(\"False positives: \" + str(((sol_braf_noise.imap - REF_IMAP) == 1).sum().sum()))"
   ]
  },
  {
   "cell_type": "code",
   "execution_count": 13,
   "metadata": {},
   "outputs": [
    {
     "data": {
      "text/html": [
       "<div>\n",
       "<style scoped>\n",
       "    .dataframe tbody tr th:only-of-type {\n",
       "        vertical-align: middle;\n",
       "    }\n",
       "\n",
       "    .dataframe tbody tr th {\n",
       "        vertical-align: top;\n",
       "    }\n",
       "\n",
       "    .dataframe thead th {\n",
       "        text-align: right;\n",
       "    }\n",
       "</style>\n",
       "<table border=\"1\" class=\"dataframe\">\n",
       "  <thead>\n",
       "    <tr style=\"text-align: right;\">\n",
       "      <th></th>\n",
       "      <th>wt</th>\n",
       "      <th>braf</th>\n",
       "      <th>mean</th>\n",
       "    </tr>\n",
       "  </thead>\n",
       "  <tbody>\n",
       "    <tr>\n",
       "      <th>r_BRAF_RAP1</th>\n",
       "      <td>0.972159</td>\n",
       "      <td>-0.0344583</td>\n",
       "      <td>0.46885</td>\n",
       "    </tr>\n",
       "    <tr>\n",
       "      <th>r_ERK_MEK</th>\n",
       "      <td>1.12478</td>\n",
       "      <td>0.0738022</td>\n",
       "      <td>0.599292</td>\n",
       "    </tr>\n",
       "    <tr>\n",
       "      <th>r_MEK_BRAF</th>\n",
       "      <td>0.807248</td>\n",
       "      <td>0.0779526</td>\n",
       "      <td>0.4426</td>\n",
       "    </tr>\n",
       "    <tr>\n",
       "      <th>r_P90RSK_ERK</th>\n",
       "      <td>0.795351</td>\n",
       "      <td>0.345694</td>\n",
       "      <td>0.570523</td>\n",
       "    </tr>\n",
       "    <tr>\n",
       "      <th>rp_BRAF KD_BRAF</th>\n",
       "      <td>-0.303702</td>\n",
       "      <td>-0.803823</td>\n",
       "      <td>-0.553763</td>\n",
       "    </tr>\n",
       "  </tbody>\n",
       "</table>\n",
       "</div>"
      ],
      "text/plain": [
       "                       wt       braf      mean\n",
       "r_BRAF_RAP1      0.972159 -0.0344583   0.46885\n",
       "r_ERK_MEK         1.12478  0.0738022  0.599292\n",
       "r_MEK_BRAF       0.807248  0.0779526    0.4426\n",
       "r_P90RSK_ERK     0.795351   0.345694  0.570523\n",
       "rp_BRAF KD_BRAF -0.303702  -0.803823 -0.553763"
      ]
     },
     "execution_count": 13,
     "metadata": {},
     "output_type": "execute_result"
    }
   ],
   "source": [
    "sol_braf_noise.deviations_overview()"
   ]
  },
  {
   "cell_type": "code",
   "execution_count": 14,
   "metadata": {},
   "outputs": [
    {
     "data": {
      "image/png": "[encoded data removed]",
      "text/plain": [
       "<Figure size 416.125x360 with 1 Axes>"
      ]
     },
     "metadata": {},
     "output_type": "display_data"
    }
   ],
   "source": [
    "df = get_param_df(sol_braf_noise, true_rpert_dict, true_rloc_dict)\n",
    "sns.lmplot(x=\"cnr\", y=\"true\", data=df, hue=\"cl\", fit_reg=False, \n",
    "           palette=col_dict);"
   ]
  },
  {
   "cell_type": "markdown",
   "metadata": {},
   "source": [
    "## EGFR & WT "
   ]
  },
  {
   "cell_type": "code",
   "execution_count": 16,
   "metadata": {},
   "outputs": [
    {
     "name": "stdout",
     "output_type": "stream",
     "text": [
      "CPXPARAM_Read_DataCheck                          1\n",
      "Found incumbent of value 12.232954 after 0.00 sec. (0.08 ticks)\n",
      "Tried aggregator 2 times.\n",
      "MIQP Presolve eliminated 132 rows and 1 columns.\n",
      "MIQP Presolve modified 144 coefficients.\n",
      "Aggregator did 144 substitutions.\n",
      "Reduced MIQP has 564 rows, 996 columns, and 3164 nonzeros.\n",
      "Reduced MIQP has 276 binaries, 0 generals, 0 SOSs, and 552 indicators.\n",
      "Reduced MIQP objective Q matrix has 288 nonzeros.\n",
      "Presolve time = 0.01 sec. (1.91 ticks)\n",
      "Probing time = 0.00 sec. (0.20 ticks)\n",
      "Tried aggregator 1 time.\n",
      "MIQP Presolve eliminated 376 rows and 664 columns.\n",
      "Reduced MIQP has 188 rows, 332 columns, and 1054 nonzeros.\n",
      "Reduced MIQP has 92 binaries, 0 generals, 0 SOSs, and 184 indicators.\n",
      "Reduced MIQP objective Q matrix has 96 nonzeros.\n",
      "Presolve time = 0.02 sec. (0.75 ticks)\n",
      "Probing time = 0.00 sec. (0.07 ticks)\n",
      "Tried aggregator 1 time.\n",
      "Reduced MIQP has 188 rows, 332 columns, and 1054 nonzeros.\n",
      "Reduced MIQP has 92 binaries, 0 generals, 0 SOSs, and 184 indicators.\n",
      "Reduced MIQP objective Q matrix has 96 nonzeros.\n",
      "Presolve time = 0.02 sec. (0.30 ticks)\n",
      "Probing time = 0.00 sec. (0.07 ticks)\n",
      "Clique table members: 44.\n",
      "MIP emphasis: balance optimality and feasibility.\n",
      "MIP search method: dynamic search.\n",
      "Parallel mode: deterministic, using up to 4 threads.\n",
      "Root relaxation solution time = 0.01 sec. (1.32 ticks)\n",
      "\n",
      "        Nodes                                         Cuts/\n",
      "   Node  Left     Objective  IInf  Best Integer    Best Bound    ItCnt     Gap\n",
      "\n",
      "*     0+    0                            3.6096        0.2311            93.60%\n",
      "      0     0        0.2311    74        3.6096        0.2311        3   93.60%\n",
      "*     0+    0                            2.7138        0.2311            91.48%\n",
      "*     0+    0                            2.3461        0.2311            90.15%\n",
      "\n",
      "Repeating presolve.\n",
      "Tried aggregator 2 times.\n",
      "MIQP Presolve eliminated 141 rows and 249 columns.\n",
      "Aggregator did 2 substitutions.\n",
      "Reduced MIQP has 45 rows, 81 columns, and 259 nonzeros.\n",
      "Reduced MIQP has 23 binaries, 0 generals, 0 SOSs, and 46 indicators.\n",
      "Reduced MIQP objective Q matrix has 24 nonzeros.\n",
      "Presolve time = 0.02 sec. (0.28 ticks)\n",
      "Probing time = 0.00 sec. (0.02 ticks)\n",
      "Tried aggregator 1 time.\n",
      "Reduced MIQP has 45 rows, 81 columns, and 259 nonzeros.\n",
      "Reduced MIQP has 23 binaries, 0 generals, 0 SOSs, and 46 indicators.\n",
      "Reduced MIQP objective Q matrix has 24 nonzeros.\n",
      "Presolve time = 0.00 sec. (0.07 ticks)\n",
      "Represolve time = 0.05 sec. (0.58 ticks)\n",
      "Probing time = 0.00 sec. (0.02 ticks)\n",
      "Clique table members: 11.\n",
      "MIP emphasis: balance optimality and feasibility.\n",
      "MIP search method: dynamic search.\n",
      "Parallel mode: deterministic, using up to 4 threads.\n",
      "Root relaxation solution time = 0.00 sec. (0.37 ticks)\n",
      "\n",
      "        Nodes                                         Cuts/\n",
      "   Node  Left     Objective  IInf  Best Integer    Best Bound    ItCnt     Gap\n",
      "\n",
      "*     0+    0                            0.2898        0.2779             4.08%\n",
      "      0     0        0.2779    23        0.2898        0.2779       15    4.08%\n",
      "\n",
      "Root node processing (before b&c):\n",
      "  Real time             =    1.04 sec. (138.75 ticks)\n",
      "Parallel b&c, 4 threads:\n",
      "  Real time             =    0.00 sec. (0.00 ticks)\n",
      "  Sync time (average)   =    0.00 sec.\n",
      "  Wait time (average)   =    0.00 sec.\n",
      "                          ------------\n",
      "Total (root+branch&cut) =    1.04 sec. (138.75 ticks)\n",
      "\n",
      "==================================\n",
      "\n",
      "# of edges: 16\n",
      "# of deviation: 8\n",
      "TPR: 0.875\n",
      "FPR: 0.017241379310344827\n",
      "False positives: 2\n"
     ]
    }
   ],
   "source": [
    "p_egfr_noise = cnr.CnrProblem(panel_egfr_wt_noise, eta=ETA,  theta=THETA)\n",
    "p_egfr_noise.cpx.solve()\n",
    "sol_egfr_noise = cnr.CnrResult(p_egfr_noise)\n",
    "\n",
    "print('\\n==================================\\n')\n",
    "print(\"# of edges: \" + str(sol_egfr_noise.imap.sum().sum()))\n",
    "print(\"# of deviation: \" + str(len(sol_egfr_noise.deviations_overview().index)))\n",
    "\n",
    "print(\"TPR: \" + str(tpr(sol_egfr_noise.imap, REF_IMAP)))\n",
    "print(\"FPR: \" + str(fpr(sol_egfr_noise.imap, REF_IMAP)))\n",
    "print(\"False positives: \" + str(((sol_egfr_noise.imap - REF_IMAP) == 1).sum().sum()))"
   ]
  },
  {
   "cell_type": "code",
   "execution_count": 17,
   "metadata": {},
   "outputs": [
    {
     "data": {
      "text/html": [
       "<div>\n",
       "<style scoped>\n",
       "    .dataframe tbody tr th:only-of-type {\n",
       "        vertical-align: middle;\n",
       "    }\n",
       "\n",
       "    .dataframe tbody tr th {\n",
       "        vertical-align: top;\n",
       "    }\n",
       "\n",
       "    .dataframe thead th {\n",
       "        text-align: right;\n",
       "    }\n",
       "</style>\n",
       "<table border=\"1\" class=\"dataframe\">\n",
       "  <thead>\n",
       "    <tr style=\"text-align: right;\">\n",
       "      <th></th>\n",
       "      <th>wt</th>\n",
       "      <th>egfr</th>\n",
       "      <th>mean</th>\n",
       "    </tr>\n",
       "  </thead>\n",
       "  <tbody>\n",
       "    <tr>\n",
       "      <th>r_BRAF_RAP1</th>\n",
       "      <td>0.970129</td>\n",
       "      <td>2.10487</td>\n",
       "      <td>1.5375</td>\n",
       "    </tr>\n",
       "    <tr>\n",
       "      <th>r_C3G_EGFR</th>\n",
       "      <td>1.04773</td>\n",
       "      <td>0.293803</td>\n",
       "      <td>0.670767</td>\n",
       "    </tr>\n",
       "    <tr>\n",
       "      <th>r_ERK_C3G</th>\n",
       "      <td>0.00617012</td>\n",
       "      <td>0.44202</td>\n",
       "      <td>0.224095</td>\n",
       "    </tr>\n",
       "    <tr>\n",
       "      <th>r_ERK_MEK</th>\n",
       "      <td>1.12154</td>\n",
       "      <td>0.362921</td>\n",
       "      <td>0.742232</td>\n",
       "    </tr>\n",
       "    <tr>\n",
       "      <th>r_MEK_RAP1</th>\n",
       "      <td>-0.0546843</td>\n",
       "      <td>0.439761</td>\n",
       "      <td>0.192538</td>\n",
       "    </tr>\n",
       "    <tr>\n",
       "      <th>r_P90RSK_ERK</th>\n",
       "      <td>0.790962</td>\n",
       "      <td>0.38762</td>\n",
       "      <td>0.589291</td>\n",
       "    </tr>\n",
       "    <tr>\n",
       "      <th>rp_BRAF KD_BRAF</th>\n",
       "      <td>-0.33046</td>\n",
       "      <td>-0.792258</td>\n",
       "      <td>-0.561359</td>\n",
       "    </tr>\n",
       "    <tr>\n",
       "      <th>rp_MEK KD_MEK</th>\n",
       "      <td>-0.523802</td>\n",
       "      <td>-0.75276</td>\n",
       "      <td>-0.638281</td>\n",
       "    </tr>\n",
       "  </tbody>\n",
       "</table>\n",
       "</div>"
      ],
      "text/plain": [
       "                         wt      egfr      mean\n",
       "r_BRAF_RAP1        0.970129   2.10487    1.5375\n",
       "r_C3G_EGFR          1.04773  0.293803  0.670767\n",
       "r_ERK_C3G        0.00617012   0.44202  0.224095\n",
       "r_ERK_MEK           1.12154  0.362921  0.742232\n",
       "r_MEK_RAP1       -0.0546843  0.439761  0.192538\n",
       "r_P90RSK_ERK       0.790962   0.38762  0.589291\n",
       "rp_BRAF KD_BRAF    -0.33046 -0.792258 -0.561359\n",
       "rp_MEK KD_MEK     -0.523802  -0.75276 -0.638281"
      ]
     },
     "execution_count": 17,
     "metadata": {},
     "output_type": "execute_result"
    }
   ],
   "source": [
    "sol_egfr_noise.deviations_overview()"
   ]
  },
  {
   "cell_type": "code",
   "execution_count": 18,
   "metadata": {},
   "outputs": [
    {
     "data": {
      "image/png": "[encoded data removed]",
      "text/plain": [
       "<Figure size 416.25x360 with 1 Axes>"
      ]
     },
     "metadata": {},
     "output_type": "display_data"
    }
   ],
   "source": [
    "df = get_param_df(sol_egfr_noise, true_rpert_dict, true_rloc_dict)\n",
    "sns.lmplot(x=\"cnr\", y=\"true\", data=df, hue=\"cl\", fit_reg=False, \n",
    "           palette=col_dict);"
   ]
  },
  {
   "cell_type": "markdown",
   "metadata": {},
   "source": [
    "# Generate graphs"
   ]
  },
  {
   "cell_type": "markdown",
   "metadata": {},
   "source": [
    "Define the helper functions and parameters."
   ]
  },
  {
   "cell_type": "code",
   "execution_count": 19,
   "metadata": {},
   "outputs": [],
   "source": [
    "graph_pos = {\n",
    "    'EGFR': (0, 0),\n",
    "    'SOS': (0., -1),\n",
    "    'RAS': (0., -2),\n",
    "    'RAF1': (0, -3),\n",
    "    'MEK': (0, -4),\n",
    "    'ERK': (0, -5),\n",
    "    'P90RSK': (-1, -5),\n",
    "    'PI3K': (-1, -2),\n",
    "    'AKT': (-1, -3),\n",
    "    'C3G': (1, -1),\n",
    "    'RAP1': (1, -2),\n",
    "    'BRAF': (1, -3),\n",
    "    \n",
    "    'ERK KD': (0.75, -4.5),\n",
    "    'RAS KD': (0.75, -1.5),\n",
    "    'BRAF KD': (1.75, -2.5),\n",
    "    'MEK KD': (0.75, -3.5)\n",
    "}\n"
   ]
  },
  {
   "cell_type": "code",
   "execution_count": 20,
   "metadata": {},
   "outputs": [],
   "source": [
    "def remove_edges(G, weigth_cutoff = 0.0):\n",
    "    edges_to_remove = []\n",
    "    for i, j, weight in G.edges(data=\"weight\"):\n",
    "        if abs(weight) < weigth_cutoff:\n",
    "            edges_to_remove.append((i, j))\n",
    "    G.remove_edges_from(edges_to_remove)\n",
    "\n",
    "\n",
    "def write_orton_gml(G, graph_pos, fname, nodes_drop=None, weigth_cutoff = 0.0, highlight_diff = True):\n",
    "\n",
    "    pos_x = dict()\n",
    "    pos_y = dict()\n",
    "    for key, val in graph_pos.items():\n",
    "        pos_x[key] = int(35*val[0])\n",
    "        pos_y[key] = int(-30*val[1])\n",
    "\n",
    "    nx.set_node_attributes(G, pos_x, 'x')\n",
    "    nx.set_node_attributes(G, pos_y, 'y')\n",
    "    \n",
    "    remove_edges(G, weigth_cutoff)      \n",
    "    \n",
    "    if nodes_drop:\n",
    "        G.remove_nodes_from(nodes_drop)\n",
    "    \n",
    "    # Make feedback edge curved\n",
    "    d = {key: 0 for key in G.edges()}\n",
    "    d[(\"P90RSK\", \"SOS\")] = 1\n",
    "    nx.set_edge_attributes(G, d, \"curved\")\n",
    "        \n",
    "    if highlight_diff:\n",
    "        for parent, child in G.edges():\n",
    "            if G[parent][child]['deviation'] == 0.:\n",
    "                G[parent][child]['color'] = 'light-gray'\n",
    "    nx.write_gml(G, fname)\n",
    "\n"
   ]
  },
  {
   "cell_type": "markdown",
   "metadata": {},
   "source": [
    "## Braf & WT panel"
   ]
  },
  {
   "cell_type": "code",
   "execution_count": 21,
   "metadata": {},
   "outputs": [],
   "source": [
    "g_braf_noise = cnr.cnrplot.graph_from_sol(sol_braf_noise, \"braf\", 4)\n",
    "g_wt_noise = cnr.cnrplot.graph_from_sol(sol_braf_noise, \"wt\", 4)\n",
    "\n",
    "perturbation_nodes = set(utils.flatten_list(sol_braf_noise.perts))\n",
    "deviations = [i.split(\"_\")[1] for i in sol_braf_noise.deviations_overview().index]\n",
    "nodes_drop = (perturbation_nodes - set(deviations))\n",
    "\n",
    "write_orton_gml(\n",
    "    g_wt_noise, graph_pos,\n",
    "    \"results/graphs/panel-braf-wt-noise_wt.gml\",\n",
    "    nodes_drop=nodes_drop,\n",
    "    weigth_cutoff = 0.05\n",
    ")\n",
    "\n",
    "write_orton_gml(\n",
    "    g_braf_noise, graph_pos,\n",
    "    \"results/graphs/panel-braf-wt-noise_braf.gml\",\n",
    "    nodes_drop=nodes_drop,\n",
    "    weigth_cutoff = 0.05\n",
    ")"
   ]
  },
  {
   "cell_type": "markdown",
   "metadata": {},
   "source": [
    "## Ras & WT panel "
   ]
  },
  {
   "cell_type": "code",
   "execution_count": 22,
   "metadata": {},
   "outputs": [],
   "source": [
    "g_ras_noise = cnr.cnrplot.graph_from_sol(sol_ras_noise, \"ras\", 4)\n",
    "g_wt_noise = cnr.cnrplot.graph_from_sol(sol_ras_noise, \"wt\", 4)\n",
    "\n",
    "perturbation_nodes = set(utils.flatten_list(sol_ras_noise.perts))\n",
    "deviations = [i.split(\"_\")[1] for i in sol_ras_noise.deviations_overview().index]\n",
    "nodes_drop = (perturbation_nodes - set(deviations))\n",
    "\n",
    "write_orton_gml(\n",
    "    g_wt_noise, graph_pos,\n",
    "    \"results/graphs/panel-ras-wt-noise_wt.gml\",\n",
    "    nodes_drop=nodes_drop,\n",
    "    weigth_cutoff = 0.05\n",
    ")\n",
    "\n",
    "write_orton_gml(\n",
    "    g_ras_noise, graph_pos,\n",
    "    \"results/graphs/panel-ras-wt-noise_ras.gml\",\n",
    "    nodes_drop=nodes_drop,\n",
    "    weigth_cutoff = 0.05\n",
    ")\n"
   ]
  },
  {
   "cell_type": "markdown",
   "metadata": {},
   "source": [
    "## EGFR & WT panel"
   ]
  },
  {
   "cell_type": "code",
   "execution_count": 23,
   "metadata": {},
   "outputs": [],
   "source": [
    "g_egfr_noise = cnr.cnrplot.graph_from_sol(sol_egfr_noise, \"egfr\", 4)\n",
    "g_wt_noise = cnr.cnrplot.graph_from_sol(sol_egfr_noise, \"wt\", 4)\n",
    "\n",
    "perturbation_nodes = set(utils.flatten_list(sol_egfr_noise.perts))\n",
    "deviations = [i.split(\"_\")[1] for i in sol_egfr_noise.deviations_overview().index]\n",
    "nodes_drop = (perturbation_nodes - set(deviations))\n",
    "\n",
    "write_orton_gml(\n",
    "    g_wt_noise, graph_pos,\n",
    "    \"results/graphs/panel-egfr-wt-noise_wt.gml\",\n",
    "    nodes_drop=nodes_drop,\n",
    "    weigth_cutoff = 0.05\n",
    ")\n",
    "\n",
    "write_orton_gml(\n",
    "    g_egfr_noise, graph_pos,\n",
    "    \"results/graphs/panel-egfr-wt-noise_egfr.gml\",\n",
    "    nodes_drop=nodes_drop,\n",
    "    weigth_cutoff = 0.05\n",
    ")\n"
   ]
  },
  {
   "cell_type": "markdown",
   "metadata": {},
   "source": [
    "## True topology"
   ]
  },
  {
   "cell_type": "code",
   "execution_count": 24,
   "metadata": {},
   "outputs": [],
   "source": [
    "%%capture\n",
    "i = REF_IMAP.columns[np.array(REF_IMAP).nonzero()[0]]\n",
    "j = REF_IMAP.columns[np.array(REF_IMAP).nonzero()[1]]\n",
    "real_interactions = list(zip(i, j))\n",
    "\n",
    "p = cnr.CnrProblem(panel_all, prior_network = real_interactions, maxdevs=0)\n",
    "p.cpx.solve()\n",
    "sol = cnr.CnrResult(p)\n"
   ]
  },
  {
   "cell_type": "code",
   "execution_count": 25,
   "metadata": {},
   "outputs": [],
   "source": [
    "import mypyutils\n",
    "g = cnr.cnrplot.graph_from_sol(sol, \"egfr\", 0)\n",
    "perturbation_nodes = set(utils.flatten_list(sol.perts))\n",
    "nodes_drop = perturbation_nodes\n",
    "\n",
    "\n",
    "write_orton_gml(\n",
    "    g, graph_pos,\n",
    "    \"results/graphs/panel-true-topology.gml\",\n",
    "    nodes_drop=nodes_drop,\n",
    "    weigth_cutoff = 0.0\n",
    ")\n"
   ]
  },
  {
   "cell_type": "code",
   "execution_count": null,
   "metadata": {},
   "outputs": [],
   "source": []
  }
 ],
 "metadata": {
  "kernelspec": {
   "display_name": "Python 3",
   "language": "python",
   "name": "python3"
  },
  "language_info": {
   "codemirror_mode": {
    "name": "ipython",
    "version": 3
   },
   "file_extension": ".py",
   "mimetype": "text/x-python",
   "name": "python",
   "nbconvert_exporter": "python",
   "pygments_lexer": "ipython3",
   "version": "3.6.5"
  },
  "toc": {
   "base_numbering": 1,
   "nav_menu": {},
   "number_sections": true,
   "sideBar": true,
   "skip_h1_title": false,
   "title_cell": "Table of Contents",
   "title_sidebar": "Contents",
   "toc_cell": true,
   "toc_position": {},
   "toc_section_display": true,
   "toc_window_display": true
  },
  "varInspector": {
   "cols": {
    "lenName": 16,
    "lenType": 16,
    "lenVar": 40
   },
   "kernels_config": {
    "python": {
     "delete_cmd_postfix": "",
     "delete_cmd_prefix": "del ",
     "library": "var_list.py",
     "varRefreshCmd": "print(var_dic_list())"
    },
    "r": {
     "delete_cmd_postfix": ") ",
     "delete_cmd_prefix": "rm(",
     "library": "var_list.r",
     "varRefreshCmd": "cat(var_dic_list()) "
    }
   },
   "types_to_exclude": [
    "module",
    "function",
    "builtin_function_or_method",
    "instance",
    "_Feature"
   ],
   "window_display": false
  }
 },
 "nbformat": 4,
 "nbformat_minor": 2
}
