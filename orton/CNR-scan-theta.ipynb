{
 "cells": [
  {
   "cell_type": "markdown",
   "metadata": {
    "toc": true
   },
   "source": [
    "<h1>Table of Contents<span class=\"tocSkip\"></span></h1>\n",
    "<div class=\"toc\"><ul class=\"toc-item\"><li><span><a href=\"#Data-preparation\" data-toc-modified-id=\"Data-preparation-1\"><span class=\"toc-item-num\">1&nbsp;&nbsp;</span>Data preparation</a></span></li><li><span><a href=\"#Check-fixed-theta\" data-toc-modified-id=\"Check-fixed-theta-2\"><span class=\"toc-item-num\">2&nbsp;&nbsp;</span>Check fixed theta</a></span></li><li><span><a href=\"#Scan-over-theta-without-noise\" data-toc-modified-id=\"Scan-over-theta-without-noise-3\"><span class=\"toc-item-num\">3&nbsp;&nbsp;</span>Scan over theta without noise</a></span></li><li><span><a href=\"#Scan-over-theta-with-the-addition-of-noise\" data-toc-modified-id=\"Scan-over-theta-with-the-addition-of-noise-4\"><span class=\"toc-item-num\">4&nbsp;&nbsp;</span>Scan over theta with the addition of noise</a></span></li></ul></div>"
   ]
  },
  {
   "cell_type": "markdown",
   "metadata": {},
   "source": [
    "# Compartive network reconstruction scan over theta of simulated data \n",
    "\n",
    "Simulated data generated in the notebook: Model simulation.ipynb"
   ]
  },
  {
   "cell_type": "code",
   "execution_count": 1,
   "metadata": {},
   "outputs": [],
   "source": [
    "import cnr\n",
    "import numpy as np\n",
    "import pandas as pd\n",
    "import seaborn as sns\n",
    "from mypyutils import utils\n",
    "import matplotlib.pyplot as plt\n",
    "import scipy.interpolate\n",
    "import utils\n",
    "import random\n",
    "\n",
    "%matplotlib inline\n",
    "%load_ext autoreload\n",
    "%autoreload 2\n",
    "\n",
    " \n",
    "# ----------------------------------------------------------------------------\n",
    "# Inputs\n",
    "\n",
    "#np.set_printoptions(precision=3, suppress=1, linewidth=150)\n",
    "\n",
    "f_imap = \"results/simulations/imap.tsv\"\n",
    "fSimResults = 'results/simulations/ortonModel-knockdown-mutWT.tsv'\n",
    "fSimResults_mutRAS = 'results/simulations/ortonModel-knockdown-mutRAS.tsv'\n",
    "fSimResults_mutBRAF = 'results/simulations/ortonModel-knockdown-mutBRAF.tsv'\n",
    "fSimResults_mutEGFR = 'results/simulations/ortonModel-knockdown-mutEGFR.tsv'\n",
    "\n",
    "REF_IMAP = pd.read_csv(f_imap, sep='\\t', index_col=0)\n",
    "\n",
    "rglob_wt   = pd.read_csv(fSimResults, sep='\\t', index_col=0)\n",
    "rglob_ras  = pd.read_csv(fSimResults_mutRAS, sep='\\t', index_col=0)\n",
    "rglob_braf = pd.read_csv(fSimResults_mutBRAF, sep='\\t', index_col=0)\n",
    "rglob_egfr = pd.read_csv(fSimResults_mutEGFR, sep='\\t', index_col=0)\n",
    "\n",
    "# Round the rglob matrices to prevent numerical instabilities\n",
    "rglob_wt   = np.round(rglob_wt, 3)\n",
    "rglob_ras  = np.round(rglob_ras, 3)\n",
    "rglob_braf = np.round(rglob_braf, 3)\n",
    "rglob_egfr = np.round(rglob_egfr, 3)\n"
   ]
  },
  {
   "cell_type": "markdown",
   "metadata": {},
   "source": [
    "## Data preparation"
   ]
  },
  {
   "cell_type": "markdown",
   "metadata": {},
   "source": [
    "Clean the data"
   ]
  },
  {
   "cell_type": "code",
   "execution_count": 2,
   "metadata": {},
   "outputs": [],
   "source": [
    "REF_NODES = list(rglob_wt.index)\n",
    "REF_NODES == list(rglob_wt.index)  == list(rglob_braf.index)\n",
    "\n",
    "#None of the perturbations is acting downstream.\n",
    "DOWNSTREAM_ACTING_PERTS = [] \n",
    "PERTURBATIONS = [[s] for s in rglob_wt.columns]\n",
    "INHIBITOR_TARGETS = {x:x.replace('Knockdown', \"\") for x in rglob_wt.columns}"
   ]
  },
  {
   "cell_type": "markdown",
   "metadata": {},
   "source": [
    "Define the functions"
   ]
  },
  {
   "cell_type": "code",
   "execution_count": 3,
   "metadata": {},
   "outputs": [],
   "source": [
    "def scan_theta(panel, theta_vals, eta, bounds, use_previous = False):\n",
    "    \"\"\"Find solution for several eta values\"\"\"\n",
    "    sols = list()\n",
    "    p_previous = None\n",
    "    \n",
    "    for theta in theta_vals:\n",
    "        print('\\nSolving for theta = ' + str(theta))\n",
    "        p = cnr.CnrProblem(panel, eta = eta,  theta=theta, bounds = bounds)\n",
    "\n",
    "        if p_previous and use_previous:\n",
    "            p.cpx.MIP_starts.add(\n",
    "                [p_previous.cpx.variables.get_names(), p_previous.cpx.solution.get_values()],1\n",
    "                )\n",
    "\n",
    "        sol = find_sol(p)\n",
    "        sols.append(sol)\n",
    "    return sols\n",
    "\n",
    "\n",
    "def tpr(imap, ref_imap):\n",
    "    tp = ((imap == 1) & (ref_imap == 1)).sum().sum()\n",
    "    p = ref_imap.sum().sum()\n",
    "    return(tp/p)\n",
    "\n",
    "def fpr(imap, ref_imap):\n",
    "    fp = ((imap == 1) & (ref_imap == 0)).sum().sum()\n",
    "    n = (ref_imap == 0).sum().sum() - REF_IMAP.shape[0] # Subtract diagonal from # of negatives\n",
    "    return(fp/n)\n",
    "\n",
    "\n",
    "\n",
    "def find_sol(p):   \n",
    "    p.cpx.solve()\n",
    "    if p.cpx.solution.is_primal_feasible():\n",
    "        sol = cnr.CnrResult(p)\n",
    "        return sol\n",
    "    else:\n",
    "        return None\n",
    "\n",
    "def tpvals(sol, ref_imap):\n",
    "    vals = list()\n",
    "    for s in sol.rloc.values():\n",
    "        vals += list(abs(s[(sol.imap == 1) & (ref_imap == 1)]))\n",
    "    return vals\n",
    "\n",
    "def fpvals(sol, ref_imap):\n",
    "    vals = list()\n",
    "    for s in sol.rloc.values():\n",
    "        vals += list(abs(s[(sol.imap == 1) & (ref_imap == 0)]))\n",
    "    return vals\n"
   ]
  },
  {
   "cell_type": "code",
   "execution_count": 4,
   "metadata": {},
   "outputs": [],
   "source": [
    "col_dict = dict(zip(\n",
    "    [\"braf\", \"braf_wt\", \"ras\", \"ras_wt\",\"egfr\", \"egfr_wt\"],\n",
    "    sns.color_palette(\"Paired\")\n",
    "))\n",
    "\n",
    "col_dict[\"wt\"] = \"#95a5a6\"\n",
    "col_dict[\"all\"] = \"#9b59b6\"\n"
   ]
  },
  {
   "cell_type": "markdown",
   "metadata": {},
   "source": [
    "Define the panels for reconstruction"
   ]
  },
  {
   "cell_type": "code",
   "execution_count": 5,
   "metadata": {},
   "outputs": [],
   "source": [
    "rglob_dict = {\n",
    "    'wt': rglob_wt, \n",
    "    'ras': rglob_ras, \n",
    "    'braf':rglob_braf, \n",
    "    'egfr': rglob_egfr\n",
    "}\n",
    "\n",
    "panel_all = cnr.PerturbationPanel(\n",
    "    REF_NODES, PERTURBATIONS, INHIBITOR_TARGETS, [], rglob_dict\n",
    ")\n",
    "\n",
    "\n",
    "# Panels with mutant + wt\n",
    "panel_ras_wt = cnr.PerturbationPanel(\n",
    "    REF_NODES, PERTURBATIONS, INHIBITOR_TARGETS, [], \n",
    "    {key: val for key, val in rglob_dict.items() if key in {'wt', 'ras'}} \n",
    ")\n",
    "\n",
    "panel_braf_wt = cnr.PerturbationPanel(\n",
    "    REF_NODES, PERTURBATIONS, INHIBITOR_TARGETS, [],\n",
    "    {key: val for key, val in rglob_dict.items() if key in {'wt', 'braf'}} \n",
    ")\n",
    "panel_egfr_wt = cnr.PerturbationPanel(\n",
    "    REF_NODES, PERTURBATIONS, INHIBITOR_TARGETS, [],\n",
    "    {key: val for key, val in rglob_dict.items() if key in {'wt', 'egfr'}} \n",
    ")"
   ]
  },
  {
   "cell_type": "markdown",
   "metadata": {},
   "source": [
    "## Check fixed theta"
   ]
  },
  {
   "cell_type": "markdown",
   "metadata": {},
   "source": [
    "First, we need to choose which value of eta we want to use. Previous tests indicated eta=0.005 to give good True and False positive rates. The results below indicate that this is true."
   ]
  },
  {
   "cell_type": "code",
   "execution_count": 6,
   "metadata": {},
   "outputs": [],
   "source": [
    "ETA = 0.005"
   ]
  },
  {
   "cell_type": "code",
   "execution_count": 7,
   "metadata": {},
   "outputs": [],
   "source": [
    "%%capture\n",
    "p = cnr.CnrProblem(panel_ras_wt, eta=ETA,  theta=0.02)\n",
    "sol = find_sol(p)"
   ]
  },
  {
   "cell_type": "code",
   "execution_count": 8,
   "metadata": {},
   "outputs": [
    {
     "name": "stdout",
     "output_type": "stream",
     "text": [
      "TPR: 0.875 0.0\n",
      "# of edges: 14\n",
      "# of deviation: 8\n"
     ]
    }
   ],
   "source": [
    "print(\"TPR: \" + str(tpr(sol.imap, REF_IMAP)),  fpr(sol.imap, REF_IMAP))\n",
    "print(\"# of edges: \" + str(sol.imap.sum().sum()))\n",
    "print(\"# of deviation: \" + str(len(sol.deviations_overview().index)))"
   ]
  },
  {
   "cell_type": "code",
   "execution_count": 9,
   "metadata": {},
   "outputs": [],
   "source": [
    "%%capture\n",
    "p = cnr.CnrProblem(panel_braf_wt, eta=ETA,  theta=0.02)\n",
    "sol = find_sol(p)"
   ]
  },
  {
   "cell_type": "code",
   "execution_count": 10,
   "metadata": {},
   "outputs": [
    {
     "name": "stdout",
     "output_type": "stream",
     "text": [
      "TPR: 0.875 0.0\n",
      "# of edges: 14\n",
      "# of deviation: 5\n"
     ]
    }
   ],
   "source": [
    "print(\"TPR: \" + str(tpr(sol.imap, REF_IMAP)),  fpr(sol.imap, REF_IMAP))\n",
    "print(\"# of edges: \" + str(sol.imap.sum().sum()))\n",
    "print(\"# of deviation: \" + str(len(sol.deviations_overview().index)))"
   ]
  },
  {
   "cell_type": "code",
   "execution_count": 11,
   "metadata": {},
   "outputs": [],
   "source": [
    "%%capture\n",
    "p = cnr.CnrProblem(panel_egfr_wt, eta=ETA,  theta=0.02)\n",
    "sol = find_sol(p)"
   ]
  },
  {
   "cell_type": "code",
   "execution_count": 12,
   "metadata": {},
   "outputs": [
    {
     "name": "stdout",
     "output_type": "stream",
     "text": [
      "TPR: 0.875 0.008620689655172414\n",
      "# of edges: 15\n",
      "# of deviation: 5\n"
     ]
    }
   ],
   "source": [
    "print(\"TPR: \" + str(tpr(sol.imap, REF_IMAP)),  fpr(sol.imap, REF_IMAP))\n",
    "print(\"# of edges: \" + str(sol.imap.sum().sum()))\n",
    "print(\"# of deviation: \" + str(len(sol.deviations_overview().index)))"
   ]
  },
  {
   "cell_type": "markdown",
   "metadata": {},
   "source": [
    "## Scan over theta without noise\n",
    "Select the range of values to test for theta and other parameters"
   ]
  },
  {
   "cell_type": "code",
   "execution_count": 13,
   "metadata": {},
   "outputs": [],
   "source": [
    "THETA_VALS = [0] + list(np.round(np.logspace(-4, -1, 20), 4)) + [1000]\n",
    "BOUNDS = 10 # Maximal values of continous variables in the model (e.g. local response coefficients)\n"
   ]
  },
  {
   "cell_type": "code",
   "execution_count": 15,
   "metadata": {},
   "outputs": [],
   "source": [
    "%%capture\n",
    "sols_ras_wt_theta  = scan_theta(panel_ras_wt,  THETA_VALS, eta = ETA, bounds=BOUNDS, use_previous=True)\n",
    "sols_braf_wt_theta = scan_theta(panel_braf_wt, THETA_VALS, eta = ETA, bounds=BOUNDS, use_previous=True)\n",
    "sols_egfr_wt_theta = scan_theta(panel_egfr_wt, THETA_VALS, eta = ETA, bounds=BOUNDS, use_previous=True)\n",
    "sols_all_theta     = scan_theta(panel_all,     THETA_VALS, eta = ETA, bounds=BOUNDS, use_previous=True)"
   ]
  },
  {
   "cell_type": "markdown",
   "metadata": {},
   "source": [
    "Process and plot the results.\n",
    "\n",
    "First, extract the required values in a data frama"
   ]
  },
  {
   "cell_type": "code",
   "execution_count": 16,
   "metadata": {},
   "outputs": [],
   "source": [
    "def extract_theta_scan_results(sol_lst):\n",
    "    df = pd.DataFrame([\n",
    "        (sol.meta_info['theta'], \n",
    "         len(sol.deviations_overview().index),\n",
    "         sol.mssr, \n",
    "         sol.imap.sum().sum(),\n",
    "         fpr(sol.imap, REF_IMAP),\n",
    "         tpr(sol.imap, REF_IMAP),\n",
    "         sol.objective_value                 \n",
    "        ) for sol in sol_lst],\n",
    "        columns = [\"theta\", \"N_diff\", \"error\", \"N_edge\", \"FPR\", \"TPR\", \"obj_val\"] \n",
    "    )\n",
    "    return df\n",
    "df_ras  = extract_theta_scan_results(sols_ras_wt_theta)\n",
    "df_ras['panel'] = \"ras_wt_theta\"\n",
    "df_braf = extract_theta_scan_results(sols_braf_wt_theta)\n",
    "df_braf['panel'] = \"braf_wt_theta\"\n",
    "df_egfr = extract_theta_scan_results(sols_egfr_wt_theta)\n",
    "df_egfr['panel'] = 'egfr_wt_theta'\n",
    "df_all  = extract_theta_scan_results(sols_all_theta)\n",
    "df_all['panel'] = 'all_theta'\n",
    "\n",
    "df = pd.concat([df_braf, df_ras, df_egfr, df_all])\n",
    "# df.to_csv(\"results/solutions/scan-theta.tsv\", sep = \"\\t\", index = False)"
   ]
  },
  {
   "cell_type": "code",
   "execution_count": 17,
   "metadata": {},
   "outputs": [
    {
     "data": {
      "image/png": "[encoded data removed]",
      "text/plain": [
       "<Figure size 212.598x141.732 with 1 Axes>"
      ]
     },
     "metadata": {},
     "output_type": "display_data"
    }
   ],
   "source": [
    "cm2inch = 1/2.54\n",
    "plt.figure(figsize=((3/2)*5*cm2inch, 5*cm2inch))\n",
    "plt.plot(df_braf.N_diff, df_braf.error,\"o-\", color = col_dict[\"braf_wt\"]) #, label = \"Braf & WT\")\n",
    "plt.plot(df_ras.N_diff,  df_ras.error, \"o-\", color = col_dict[\"ras_wt\"])# ,  label = \"Ras & WT\")\n",
    "plt.plot(df_egfr.N_diff, df_egfr.error,\"o-\", color = col_dict[\"egfr_wt\"])# , label = \"EGFR & WT\")\n",
    "plt.plot(df_all.N_diff,  df_all.error, \"o-\", color = \"black\")\n",
    "plt.xlabel('Number of differences between cells')\n",
    "plt.ylabel('Fitting error')\n",
    "plt.show()"
   ]
  },
  {
   "cell_type": "markdown",
   "metadata": {},
   "source": [
    "## Scan over theta with the addition of noise"
   ]
  },
  {
   "cell_type": "code",
   "execution_count": 18,
   "metadata": {},
   "outputs": [],
   "source": [
    "random.seed(29121982)\n",
    "\n",
    "rglob_dict = {\n",
    "    'wt': utils.add_noise(rglob_wt, 0.1), \n",
    "    'ras': utils.add_noise(rglob_ras, 0.1),\n",
    "    'braf':utils.add_noise(rglob_braf, 0.1),\n",
    "    'egfr': utils.add_noise(rglob_egfr, 0.1)\n",
    "}\n",
    "\n",
    "panel_all = cnr.PerturbationPanel(\n",
    "    REF_NODES, PERTURBATIONS, INHIBITOR_TARGETS, [], rglob_dict\n",
    ")\n",
    "\n",
    "\n",
    "# Panels with mutant + wt\n",
    "panel_ras_wt = cnr.PerturbationPanel(\n",
    "    REF_NODES, PERTURBATIONS, INHIBITOR_TARGETS, [], \n",
    "    {key: val for key, val in rglob_dict.items() if key in {'wt', 'ras'}} \n",
    ")\n",
    "\n",
    "panel_braf_wt = cnr.PerturbationPanel(\n",
    "    REF_NODES, PERTURBATIONS, INHIBITOR_TARGETS, [],\n",
    "    {key: val for key, val in rglob_dict.items() if key in {'wt', 'braf'}} \n",
    ")\n",
    "panel_egfr_wt = cnr.PerturbationPanel(\n",
    "    REF_NODES, PERTURBATIONS, INHIBITOR_TARGETS, [],\n",
    "    {key: val for key, val in rglob_dict.items() if key in {'wt', 'egfr'}} \n",
    ")"
   ]
  },
  {
   "cell_type": "code",
   "execution_count": 19,
   "metadata": {},
   "outputs": [],
   "source": [
    "%%capture\n",
    "sols_ras_wt_theta  = scan_theta(panel_ras_wt,  THETA_VALS, eta = ETA, bounds=BOUNDS, use_previous=True)\n",
    "sols_braf_wt_theta = scan_theta(panel_braf_wt, THETA_VALS, eta = ETA, bounds=BOUNDS, use_previous=True)\n",
    "sols_egfr_wt_theta = scan_theta(panel_egfr_wt, THETA_VALS, eta = ETA, bounds=BOUNDS, use_previous=True)\n",
    "sols_all_theta     = scan_theta(panel_all,     THETA_VALS, eta = ETA, bounds=BOUNDS, use_previous=True)"
   ]
  },
  {
   "cell_type": "code",
   "execution_count": 22,
   "metadata": {},
   "outputs": [],
   "source": [
    "def extract_theta_scan_results(sol_lst):\n",
    "    df = pd.DataFrame([\n",
    "        (sol.meta_info['theta'], \n",
    "         len(sol.deviations_overview().index),\n",
    "         sol.mssr, \n",
    "         sol.imap.sum().sum(),\n",
    "         fpr(sol.imap, REF_IMAP),\n",
    "         tpr(sol.imap, REF_IMAP),\n",
    "         sol.objective_value                 \n",
    "        ) for sol in sol_lst],\n",
    "        columns = [\"theta\", \"N_diff\", \"error\", \"N_edge\", \"FPR\", \"TPR\", \"obj_val\"] \n",
    "    )\n",
    "    return df\n",
    "df_ras  = extract_theta_scan_results(sols_ras_wt_theta)\n",
    "df_ras['panel'] = \"ras_wt_theta\"\n",
    "df_braf = extract_theta_scan_results(sols_braf_wt_theta)\n",
    "df_braf['panel'] = \"braf_wt_theta\"\n",
    "df_egfr = extract_theta_scan_results(sols_egfr_wt_theta)\n",
    "df_egfr['panel'] = 'egfr_wt_theta'\n",
    "df_all  = extract_theta_scan_results(sols_all_theta)\n",
    "df_all['panel'] = 'all_theta'\n",
    "\n",
    "df = pd.concat([df_braf, df_ras, df_egfr, df_all])\n",
    "# df.to_csv(\"../results/solutions/scan-theta-noise=0.1.tsv\", sep = \"\\t\", index = False)"
   ]
  },
  {
   "cell_type": "code",
   "execution_count": 23,
   "metadata": {},
   "outputs": [
    {
     "data": {
      "image/png": "[encoded data removed]",
      "text/plain": [
       "<Figure size 212.598x141.732 with 1 Axes>"
      ]
     },
     "metadata": {},
     "output_type": "display_data"
    }
   ],
   "source": [
    "cm2inch = 1/2.54\n",
    "plt.figure(figsize=((3/2)*5*cm2inch, 5*cm2inch))\n",
    "plt.plot(df_braf.N_diff, df_braf.error,\"o-\", color = col_dict[\"braf_wt\"]) #, label = \"Braf & WT\")\n",
    "plt.plot(df_ras.N_diff,  df_ras.error, \"o-\", color = col_dict[\"ras_wt\"])# ,  label = \"Ras & WT\")\n",
    "plt.plot(df_egfr.N_diff, df_egfr.error,\"o-\", color = col_dict[\"egfr_wt\"])# , label = \"EGFR & WT\")\n",
    "plt.plot(df_all.N_diff,  df_all.error, \"o-\", color = \"black\")\n",
    "plt.xlabel('Number of differences between cells')\n",
    "plt.ylabel('Fitting error')\n",
    "plt.show()"
   ]
  },
  {
   "cell_type": "code",
   "execution_count": null,
   "metadata": {},
   "outputs": [],
   "source": []
  }
 ],
 "metadata": {
  "kernelspec": {
   "display_name": "Python 3",
   "language": "python",
   "name": "python3"
  },
  "language_info": {
   "codemirror_mode": {
    "name": "ipython",
    "version": 3
   },
   "file_extension": ".py",
   "mimetype": "text/x-python",
   "name": "python",
   "nbconvert_exporter": "python",
   "pygments_lexer": "ipython3",
   "version": "3.6.5"
  },
  "toc": {
   "base_numbering": 1,
   "nav_menu": {},
   "number_sections": true,
   "sideBar": true,
   "skip_h1_title": true,
   "title_cell": "Table of Contents",
   "title_sidebar": "Contents",
   "toc_cell": true,
   "toc_position": {},
   "toc_section_display": true,
   "toc_window_display": true
  },
  "varInspector": {
   "cols": {
    "lenName": 16,
    "lenType": 16,
    "lenVar": 40
   },
   "kernels_config": {
    "python": {
     "delete_cmd_postfix": "",
     "delete_cmd_prefix": "del ",
     "library": "var_list.py",
     "varRefreshCmd": "print(var_dic_list())"
    },
    "r": {
     "delete_cmd_postfix": ") ",
     "delete_cmd_prefix": "rm(",
     "library": "var_list.r",
     "varRefreshCmd": "cat(var_dic_list()) "
    }
   },
   "types_to_exclude": [
    "module",
    "function",
    "builtin_function_or_method",
    "instance",
    "_Feature"
   ],
   "window_display": false
  }
 },
 "nbformat": 4,
 "nbformat_minor": 2
}
