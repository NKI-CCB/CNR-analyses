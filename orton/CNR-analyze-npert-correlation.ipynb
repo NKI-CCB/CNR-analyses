{
 "cells": [
  {
   "cell_type": "markdown",
   "metadata": {
    "toc": true
   },
   "source": [
    "<h1>Table of Contents<span class=\"tocSkip\"></span></h1>\n",
    "<div class=\"toc\"><ul class=\"toc-item\"><li><span><a href=\"#Summary\" data-toc-modified-id=\"Summary-1\"><span class=\"toc-item-num\">1&nbsp;&nbsp;</span>Summary</a></span></li><li><span><a href=\"#Extract-true-and-false-positive-rates\" data-toc-modified-id=\"Extract-true-and-false-positive-rates-2\"><span class=\"toc-item-num\">2&nbsp;&nbsp;</span>Extract true and false positive rates</a></span></li><li><span><a href=\"#Prediction-of-unperturbed-nodes-with-prior-network-knowledge\" data-toc-modified-id=\"Prediction-of-unperturbed-nodes-with-prior-network-knowledge-3\"><span class=\"toc-item-num\">3&nbsp;&nbsp;</span>Prediction of unperturbed nodes with prior network knowledge</a></span></li><li><span><a href=\"#Correlation-between-true-and-fitted-parameters-with-prior-network-knowledge\" data-toc-modified-id=\"Correlation-between-true-and-fitted-parameters-with-prior-network-knowledge-4\"><span class=\"toc-item-num\">4&nbsp;&nbsp;</span>Correlation between true and fitted parameters with prior network knowledge</a></span></li></ul></div>"
   ]
  },
  {
   "cell_type": "markdown",
   "metadata": {},
   "source": [
    "# Summary\n",
    "\n",
    "Here we extract information from CNR reconstructions based on an incomplete number of perturbations of data simulated from the Orton model.\n",
    "The obtained information is exported, plots are prepared in R.\n",
    "\n",
    "**Overview of the data:**\n",
    "\n",
    "  * We performed CNR using reduced input data by randomly selecting between 2 to 10 out of 12 perturbation.\n",
    "  * For each reconstruction, a fixed eta and theta were used.\n",
    "  * 10 % noise was added to the original global response matrix for each reconstruction.\n",
    "  * The same perturbations and niosy global response matrices were used for each panel to ensure fair comparison.\n",
    "  * This procedure 50 times for each number of different perturbations.\n",
    " \n",
    "Comparative network reconstruction was performed on multiple panels:\n",
    "\n",
    "  * WT + BRAF mutant \n",
    "  * WT + RAS mutant \n",
    "  * WT + EGFR mutant \n",
    "  * All combined \n",
    "  * All single\n",
    "\n",
    "Theta was set to 0.01 for each panel.\n",
    "\n",
    "The reconstructions were run using the script \"scripts/CNR-npert-correlation.py\". The results were stored as pickle objects in the paths:\"results/solutions/sols_npert_correlation.pickle\".\n",
    "\n",
    "Results are stored in a dict with structure.\n",
    "  * Panel name\n",
    "    * Repetition\n",
    "      * list of solution for different values of eta.\n",
    "      * list of dictionaries with the global response matrices used.\n",
    "\n",
    "The whole procedure was repeated for CnrProblems restrained to a prior network and with eta=0 with correct interaction to test the ability to quantify a known network based on few perturbations."
   ]
  },
  {
   "cell_type": "code",
   "execution_count": 1,
   "metadata": {},
   "outputs": [],
   "source": [
    "import os\n",
    "import sys\n",
    "\n",
    "import random\n",
    "import pickle\n",
    "import cnr\n",
    "import numpy as np\n",
    "import pandas as pd\n",
    "import seaborn as sns\n",
    "from mypyutils import utils\n",
    "import matplotlib.pyplot as plt\n",
    "import scipy.stats.stats \n",
    "from mypyutils.utils import flatten_list\n",
    "\n",
    "%matplotlib inline\n",
    "%load_ext autoreload\n",
    "%autoreload 2"
   ]
  },
  {
   "cell_type": "code",
   "execution_count": 5,
   "metadata": {},
   "outputs": [],
   "source": [
    "with open(\"results/solutions/sols_npert_correlations.pickle\", \"rb\") as handle:\n",
    "    sols = pickle.load(handle)\n",
    "    \n",
    "with open(\"results/solutions/sols_npert_correlations-priornetwork.pickle\", \"rb\") as handle:\n",
    "    sols_prior = pickle.load(handle)\n",
    "    \n",
    "REF_IMAP = pd.read_csv(\"results/simulations/imap.tsv\", sep='\\t', index_col=0)\n",
    "\n",
    "rglobs = sols.pop(\"rglob_full\")\n",
    "rglobs_prior = sols_prior.pop(\"rglob_full\")"
   ]
  },
  {
   "cell_type": "code",
   "execution_count": 6,
   "metadata": {},
   "outputs": [],
   "source": [
    "# Local response matrices\n",
    "fSimResults_rloc = 'results/simulations/ortonModel-knockdown-mutWT-rloc.tsv'\n",
    "fSimResults_mutRAS_rloc = 'results/simulations/ortonModel-knockdown-mutRAS-rloc.tsv'\n",
    "fSimResults_mutBRAF_rloc = 'results/simulations/ortonModel-knockdown-mutBRAF-rloc.tsv'\n",
    "fSimResults_mutEGFR_rloc = 'results/simulations/ortonModel-knockdown-mutEGFR-rloc.tsv'\n",
    "\n",
    "rloc_wt   = pd.read_csv(fSimResults_rloc, sep='\\t', index_col=0)\n",
    "rloc_ras  = pd.read_csv(fSimResults_mutRAS_rloc, sep='\\t', index_col=0)\n",
    "rloc_braf = pd.read_csv(fSimResults_mutBRAF_rloc, sep='\\t', index_col=0)\n",
    "rloc_egfr = pd.read_csv(fSimResults_mutEGFR_rloc, sep='\\t', index_col=0)\n",
    "\n",
    "true_rloc_dict = {\"wt\": rloc_wt, \"ras\": rloc_ras, \"braf\": rloc_braf, \"egfr\": rloc_egfr }\n",
    "\n",
    "# Perturbation matrices\n",
    "fSimResults_rpert = 'results/simulations/ortonModel-knockdown-mutWT-rpert.tsv'\n",
    "fSimResults_mutRAS_rpert = 'results/simulations/ortonModel-knockdown-mutRAS-rpert.tsv'\n",
    "fSimResults_mutBRAF_rpert = 'results/simulations/ortonModel-knockdown-mutBRAF-rpert.tsv'\n",
    "fSimResults_mutEGFR_rpert = 'results/simulations/ortonModel-knockdown-mutEGFR-rpert.tsv'\n",
    "\n",
    "rpert_wt   = pd.read_csv(fSimResults_rpert, sep='\\t', index_col=0)\n",
    "rpert_ras  = pd.read_csv(fSimResults_mutRAS_rpert, sep='\\t', index_col=0)\n",
    "rpert_braf = pd.read_csv(fSimResults_mutBRAF_rpert, sep='\\t', index_col=0)\n",
    "rpert_egfr = pd.read_csv(fSimResults_mutEGFR_rpert, sep='\\t', index_col=0)\n",
    "\n",
    "true_rpert_dict = {\"wt\": rpert_wt, \"ras\": rpert_ras, \"braf\": rpert_braf, \"egfr\": rpert_egfr}"
   ]
  },
  {
   "cell_type": "code",
   "execution_count": 7,
   "metadata": {},
   "outputs": [],
   "source": [
    "def tpr(imap, ref_imap):\n",
    "    tp = ((imap == 1) & (ref_imap == 1)).sum().sum()\n",
    "    p = ref_imap.sum().sum()\n",
    "    return(tp/p)\n",
    "\n",
    "def fpr(imap, ref_imap):\n",
    "    fp = ((imap == 1) & (ref_imap == 0)).sum().sum()\n",
    "    n = (ref_imap == 0).sum().sum() - REF_IMAP.shape[0] # Subtract diagonal from # of negatives\n",
    "    return(fp/n)\n"
   ]
  },
  {
   "cell_type": "markdown",
   "metadata": {},
   "source": [
    "# Extract true and false positive rates "
   ]
  },
  {
   "cell_type": "code",
   "execution_count": 8,
   "metadata": {},
   "outputs": [],
   "source": [
    "df = pd.DataFrame(columns = [\"cl\", \"NPERT\", \"tpr\", \"fpr\"])\n",
    "for cl, s_dict in sols.items():\n",
    "    for npert, s_lst, in s_dict.items():\n",
    "        for s in s_lst:\n",
    "            if s is not None:\n",
    "                ser = pd.Series([cl, npert, tpr(s.imap, REF_IMAP), fpr(s.imap, REF_IMAP)],\n",
    "                               index = [\"cl\", \"NPERT\", \"tpr\", \"fpr\"])\n",
    "                df = df.append(ser, ignore_index=True)\n",
    "df.to_csv(\"results/solutions/npert-tpr-fpr.tsv\", sep=\"\\t\", index=False)"
   ]
  },
  {
   "cell_type": "markdown",
   "metadata": {},
   "source": [
    "These data are written to file and used as input for a R plotting script"
   ]
  },
  {
   "cell_type": "code",
   "execution_count": 9,
   "metadata": {},
   "outputs": [
    {
     "data": {
      "image/png": "[encoded data removed]",
      "text/plain": [
       "<Figure size 432x288 with 1 Axes>"
      ]
     },
     "metadata": {},
     "output_type": "display_data"
    },
    {
     "data": {
      "image/png": "[encoded data removed]",
      "text/plain": [
       "<Figure size 432x288 with 1 Axes>"
      ]
     },
     "metadata": {},
     "output_type": "display_data"
    }
   ],
   "source": [
    "sns.boxplot(data = df, x = \"NPERT\", y = \"tpr\", hue=\"cl\")\n",
    "plt.legend(loc='center left',bbox_to_anchor=(1,0.5))\n",
    "plt.show()\n",
    "sns.boxplot(data = df, x = \"NPERT\", y = \"fpr\", hue=\"cl\")\n",
    "plt.legend(loc='center left',bbox_to_anchor=(1,0.5))\n",
    "plt.show()"
   ]
  },
  {
   "cell_type": "markdown",
   "metadata": {},
   "source": [
    "# Prediction of unperturbed nodes with prior network knowledge"
   ]
  },
  {
   "cell_type": "code",
   "execution_count": 12,
   "metadata": {},
   "outputs": [],
   "source": [
    "def get_correlations(sol, rglob_dict, pert_annot):   \n",
    "    prediction_dict = get_prediction(sol, ALL_PERTS)\n",
    "    cl_lst = []\n",
    "    perturbed_node_lst = []\n",
    "    pearsonr_lst = []\n",
    "    pval_pearson = []\n",
    "    spearmanr_lst = []\n",
    "    pval_spearman = []\n",
    "\n",
    "    if prediction_dict is not None:\n",
    "        for cl, predictions in prediction_dict.items():\n",
    "            for perturbation, predicted_response in predictions.iteritems():\n",
    "                perturbed_node = pert_annot[perturbation]\n",
    "\n",
    "                prediction_use = (predicted_response.drop(perturbed_node).tolist())\n",
    "                rglob_use = (rglob_dict[cl][perturbation].drop(perturbed_node).tolist())\n",
    "                # Discard perturbations that have no effect\n",
    "                if (sum(map(abs, rglob_use)) > 1e-12) & (sum(map(abs, prediction_use)) >1e-12):\n",
    "                    pearson = scipy.stats.pearsonr(prediction_use, rglob_use)\n",
    "                    spearman = scipy.stats.spearmanr(prediction_use, rglob_use)\n",
    "                    cl_lst.append(cl)\n",
    "                    perturbed_node_lst.append(perturbed_node)\n",
    "                    pearsonr_lst.append(pearson[0])\n",
    "                    pval_pearson.append(pearson[1])\n",
    "                    spearmanr_lst.append(spearman[0])\n",
    "                    pval_spearman.append(spearman[1])\n",
    "\n",
    "    df = pd.DataFrame(\n",
    "        {\"cl\": cl_lst,\n",
    "         \"perturbed_node\": perturbed_node_lst,\n",
    "         \"pearsonr\": pearsonr_lst,\n",
    "         \"pval_pearson\": pval_pearson,\n",
    "         \"spearmanr\": spearmanr_lst,\n",
    "         \"pval_spearman\": pval_spearman\n",
    "        }\n",
    "    )\n",
    "    return df"
   ]
  },
  {
   "cell_type": "code",
   "execution_count": 14,
   "metadata": {},
   "outputs": [],
   "source": [
    "df_lst = []\n",
    "for panel, s_dict in sols_prior.items():\n",
    "    for npert, s_lst in s_dict.items():\n",
    "        for rep, s in enumerate(s_lst):\n",
    "            if s is not None:\n",
    "                df = get_correlations(s, rglobs_prior[npert][rep], PERT_ANNOT)\n",
    "                df[\"NPERT\"] = npert\n",
    "                df[\"PANEL\"] = panel\n",
    "                df[\"REP\"] = rep\n",
    "                df_lst.append(df)"
   ]
  },
  {
   "cell_type": "code",
   "execution_count": 15,
   "metadata": {},
   "outputs": [],
   "source": [
    "df = pd.concat(df_lst, ignore_index=True)"
   ]
  },
  {
   "cell_type": "code",
   "execution_count": 16,
   "metadata": {},
   "outputs": [],
   "source": [
    "df.to_csv(\"results/solutions/npert-correlations-priornetwork.tsv\", sep=\"\\t\", index=False)"
   ]
  },
  {
   "cell_type": "markdown",
   "metadata": {},
   "source": [
    "# Correlation between true and fitted parameters with prior network knowledge"
   ]
  },
  {
   "cell_type": "code",
   "execution_count": null,
   "metadata": {},
   "outputs": [],
   "source": [
    "def get_correlations_param(sol, trp_dict, trl_dict):  \n",
    "\n",
    "    cl_lst = []\n",
    "    pearsonr_lst = []\n",
    "    pval_pearson = []\n",
    "    spearmanr_lst = []\n",
    "    pval_spearman = []\n",
    "\n",
    "    for cl in sol.cell_lines:\n",
    "        if sol.rglob[cl].abs().sum().sum() > 1e-12:\n",
    "        \n",
    "            # Select non-zero reconstructed parameters (rloc and rpert)\n",
    "            rp = np.array(sol.rpert[cl])\n",
    "            rl = np.array(sol.rloc[cl]) + np.identity(12)\n",
    "            nz_pert = np.nonzero(rp)\n",
    "            nz_rloc = np.nonzero(rl)\n",
    "\n",
    "            # Select the corresponding true parameters (rpert and rloc)\n",
    "            trp = np.array(trp_dict[cl][sol.rpert[cl].columns])\n",
    "            trl = np.array(trl_dict[cl])\n",
    "\n",
    "            # Get correlations between reconstructed and true parameters\n",
    "            pearson = scipy.stats.pearsonr(\n",
    "                np.concatenate((rp[nz_pert],  rl[nz_rloc])),\n",
    "                np.concatenate((trp[nz_pert], trl[nz_rloc]))\n",
    "            )\n",
    "            spearman = scipy.stats.spearmanr(\n",
    "                np.concatenate((rp[nz_pert],  rl[nz_rloc])),\n",
    "                np.concatenate((trp[nz_pert], trl[nz_rloc]))\n",
    "            )\n",
    "\n",
    "            # Store results in list (temporary)\n",
    "            cl_lst.append(cl)\n",
    "            pearsonr_lst.append(pearson[0])\n",
    "            pval_pearson.append(pearson[1])\n",
    "            spearmanr_lst.append(spearman[0])\n",
    "            pval_spearman.append(spearman[1])\n",
    "    \n",
    "    # Combine results in a dataframe\n",
    "    df = pd.DataFrame(\n",
    "        {\"cl\": cl_lst, \n",
    "         \"pearsonr\": pearsonr_lst,\n",
    "         \"pval_pearson\": pval_pearson,\n",
    "         \"spearmanr\": spearmanr_lst,\n",
    "         \"pval_spearman\": pval_spearman\n",
    "        }\n",
    "    )\n",
    "    return df"
   ]
  },
  {
   "cell_type": "code",
   "execution_count": null,
   "metadata": {},
   "outputs": [],
   "source": [
    "df_lst = []\n",
    "for panel, s_dict in sols_prior.items():\n",
    "    for npert, s_lst in s_dict.items():\n",
    "        for rep, s in enumerate(s_lst):\n",
    "            if s is not None:\n",
    "                df = get_correlations_param(s, true_rpert_dict, true_rloc_dict)\n",
    "                df[\"NPERT\"] = npert\n",
    "                df[\"PANEL\"] = panel\n",
    "                df[\"REP\"] = rep\n",
    "                df_lst.append(df)"
   ]
  },
  {
   "cell_type": "code",
   "execution_count": null,
   "metadata": {},
   "outputs": [],
   "source": [
    "df = pd.concat(df_lst, ignore_index=True)"
   ]
  },
  {
   "cell_type": "code",
   "execution_count": null,
   "metadata": {},
   "outputs": [],
   "source": [
    "df.to_csv(\"../results/solutions/npert-correlations-param-priornetwork.tsv\", sep=\"\\t\", index=False)"
   ]
  },
  {
   "cell_type": "code",
   "execution_count": null,
   "metadata": {},
   "outputs": [],
   "source": []
  }
 ],
 "metadata": {
  "kernelspec": {
   "display_name": "Python 3",
   "language": "python",
   "name": "python3"
  },
  "language_info": {
   "codemirror_mode": {
    "name": "ipython",
    "version": 3
   },
   "file_extension": ".py",
   "mimetype": "text/x-python",
   "name": "python",
   "nbconvert_exporter": "python",
   "pygments_lexer": "ipython3",
   "version": "3.6.5"
  },
  "toc": {
   "base_numbering": 1,
   "nav_menu": {},
   "number_sections": true,
   "sideBar": true,
   "skip_h1_title": false,
   "title_cell": "Table of Contents",
   "title_sidebar": "Contents",
   "toc_cell": true,
   "toc_position": {},
   "toc_section_display": true,
   "toc_window_display": true
  },
  "varInspector": {
   "cols": {
    "lenName": 16,
    "lenType": 16,
    "lenVar": 40
   },
   "kernels_config": {
    "python": {
     "delete_cmd_postfix": "",
     "delete_cmd_prefix": "del ",
     "library": "var_list.py",
     "varRefreshCmd": "print(var_dic_list())"
    },
    "r": {
     "delete_cmd_postfix": ") ",
     "delete_cmd_prefix": "rm(",
     "library": "var_list.r",
     "varRefreshCmd": "cat(var_dic_list()) "
    }
   },
   "types_to_exclude": [
    "module",
    "function",
    "builtin_function_or_method",
    "instance",
    "_Feature"
   ],
   "window_display": false
  }
 },
 "nbformat": 4,
 "nbformat_minor": 2
}
