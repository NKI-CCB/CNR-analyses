{
 "cells": [
  {
   "cell_type": "markdown",
   "metadata": {
    "toc": true
   },
   "source": [
    "<h1>Table of Contents<span class=\"tocSkip\"></span></h1>\n",
    "<div class=\"toc\"><ul class=\"toc-item\"><li><span><a href=\"#Data-preparation\" data-toc-modified-id=\"Data-preparation-1\"><span class=\"toc-item-num\">1&nbsp;&nbsp;</span>Data preparation</a></span></li><li><span><a href=\"#Scan-over-number-of-perturbations\" data-toc-modified-id=\"Scan-over-number-of-perturbations-2\"><span class=\"toc-item-num\">2&nbsp;&nbsp;</span>Scan over number of perturbations</a></span></li><li><span><a href=\"#Single-solution-in-detail\" data-toc-modified-id=\"Single-solution-in-detail-3\"><span class=\"toc-item-num\">3&nbsp;&nbsp;</span>Single solution in detail</a></span><ul class=\"toc-item\"><li><span><a href=\"#Prepare-graphs\" data-toc-modified-id=\"Prepare-graphs-3.1\"><span class=\"toc-item-num\">3.1&nbsp;&nbsp;</span>Prepare graphs</a></span></li></ul></li><li><span><a href=\"#Exploration-of-the-solution-pools\" data-toc-modified-id=\"Exploration-of-the-solution-pools-4\"><span class=\"toc-item-num\">4&nbsp;&nbsp;</span>Exploration of the solution pools</a></span></li><li><span><a href=\"#Leave-one-out-cross-validation\" data-toc-modified-id=\"Leave-one-out-cross-validation-5\"><span class=\"toc-item-num\">5&nbsp;&nbsp;</span>Leave-one-out cross-validation</a></span></li></ul></div>"
   ]
  },
  {
   "cell_type": "code",
   "execution_count": 1,
   "metadata": {},
   "outputs": [],
   "source": [
    "import pandas as pd\n",
    "import numpy as np\n",
    "import seaborn as sns\n",
    "import cnr\n",
    "import cnr.cnrplot\n",
    "import networkx as nx\n",
    "import pickle\n",
    "\n",
    "%load_ext autoreload\n",
    "%autoreload 2\n",
    "\n",
    "\n",
    "import matplotlib.pyplot as plt\n",
    "%matplotlib inline\n",
    "\n",
    "vaco_wt = pd.read_csv('out/cnr-input/vaco_wt_median_lfc.tsv', sep=\"\\t\", index_col=0)\n",
    "vaco_ko = pd.read_csv('out/cnr-input/vaco_ko_median_lfc.tsv', sep=\"\\t\", index_col=0)\n",
    "vaco_pe = pd.read_csv('out/cnr-input/vaco_pe_median_lfc.tsv', sep=\"\\t\", index_col=0)"
   ]
  },
  {
   "cell_type": "markdown",
   "metadata": {},
   "source": [
    "## Data preparation"
   ]
  },
  {
   "cell_type": "markdown",
   "metadata": {},
   "source": [
    "Select the nodes to include in the network reconstruction. Only use nodes that are in the (perturbed) MAPK and AKT pathway"
   ]
  },
  {
   "cell_type": "code",
   "execution_count": 2,
   "metadata": {},
   "outputs": [],
   "source": [
    "REF_NODES = ['EGFR', # RTKs\n",
    "             'MEK', 'ERK', 'P90RSK', 'GSK3AB', 'RPS6', #MAPK\n",
    "             'PI3K', 'AKT', 'MTOR' # AKT\n",
    "            ]\n",
    "\n",
    "vaco_wt = vaco_wt.loc[REF_NODES]\n",
    "vaco_ko = vaco_ko.loc[REF_NODES]\n",
    "vaco_pe = vaco_pe.loc[REF_NODES]\n",
    "\n",
    "col_wt = '#f2b561'\n",
    "col_ko = '#ef6060'\n",
    "col_pe = '#8dbeb2'"
   ]
  },
  {
   "cell_type": "markdown",
   "metadata": {},
   "source": [
    "Prepare the annotations for CNR:\n",
    "\n",
    "  * ALLOWED_INTERACTIONS: Restrict network to known interactions.\n",
    "  * POSITIVE_INTERACTIONS, NEGATIVE_INTERACTIONS, POSITIVE_PERTURBATIONS and NEGATIVE_PERTURBATIONS are used to add constraints on the signs of the parameters.\n",
    "  * TARGETS: what are the direct targets of the perturbations?\n",
    "  * DOWNSTREAM_ACTING_PERTS: perturbations that don't affect the phosphorylation level of the target itself, but it's kinase activity."
   ]
  },
  {
   "cell_type": "code",
   "execution_count": 3,
   "metadata": {},
   "outputs": [],
   "source": [
    "ALLOWED_INTERACTIONS = [\n",
    "    ('MEK', 'EGFR'), ('PI3K', 'EGFR'), ('AKT', 'EGFR'), # EGFR\n",
    "    ('ERK', 'MEK'),  # MEK\n",
    "    ('MEK', 'ERK'), ('EGFR', 'ERK'), ('P90RSK', 'ERK'), ('RPS6', 'ERK'), # ERK\n",
    "    ('GSK3AB', 'P90RSK'),  # P90RSK\n",
    "    # GSK3AB\n",
    "    ('PI3K', 'RPS6'), ('MTOR','RPS6'),  # RPS6\n",
    "    ('AKT', 'PI3K'),\n",
    "    ('MTOR', 'AKT'), ('GSK3AB', 'AKT'), # AKT\n",
    "    ('RPS6', 'MTOR'), ('AKT', 'MTOR'),  # MTOR\n",
    "    #('CJUN', 'JNK') # JNK\n",
    "]\n",
    "\n",
    "\n",
    "\n",
    "POSITIVE_INTERACTIONS = [\n",
    "    ('MEK', 'EGFR'), ('PI3K', 'EGFR'), ('AKT', 'EGFR'), # EGFR\n",
    "    ('ERK', 'MEK'),  # MEK\n",
    "    ('P90RSK', 'ERK'), ('RPS6', 'ERK'), # ERK\n",
    "    ('GSK3AB', 'P90RSK'),  # P90RSK\n",
    "    # GSK3AB\n",
    "    ('AKT', 'PI3K'), \n",
    "    ('MTOR', 'AKT'), ('GSK3AB', 'AKT'),  # AKT\n",
    "    ('RPS6', 'MTOR'),# ('AKT', 'MTOR'),  # MTOR\n",
    "]\n",
    "\n",
    "NEGATIVE_INTERACTIONS = [\n",
    "     ('MEK', 'ERK'), ('EGFR', 'ERK'), # ERK\n",
    "     ('PI3K', 'RPS6')\n",
    "]\n",
    "\n",
    "\n",
    "POSITIVE_PERTURBATIONS = [\n",
    "    ('egf', 'EGFR'),\n",
    "    ('hgfpi3k', 'PI3K'), ('hgfakt', 'AKT'), ('hgfmek', 'MEK'), # ('hgfmekplx', 'MEK'),\n",
    "    ('nrg1pi3k', 'PI3K'), ('nrg1akt', 'AKT'), (\"nrg1mek\", 'MEK'), #(\"nrg1mekplx\", 'MEK')\n",
    "]\n",
    "\n",
    "\n",
    "NEGATIVE_PERTURBATIONS = [\n",
    "    ('plx', 'MEK'),\n",
    "    ('mek', 'ERK'),\n",
    "    ('erk', 'ERK'), \n",
    "    ('pi3k', 'AKT'),\n",
    "    ('akt', 'AKT') \n",
    "]\n",
    "\n",
    "# Map perturbations to targets\n",
    "TARGETS = {\n",
    "    'egf': 'EGFR',\n",
    "    # HGF\n",
    "    'hgfpi3k': 'PI3K',\n",
    "    'hgfakt': 'AKT',\n",
    "    'hgfmek': 'MEK',\n",
    "    # NRG1\n",
    "    'nrg1pi3k': 'PI3K',\n",
    "    'nrg1akt': 'AKT',\n",
    "    'nrg1mek': 'MEK',\n",
    "    # Inhibitors\n",
    "    'plx': 'MEK',\n",
    "    'mek': 'MEK',\n",
    "    'erk': 'ERK',\n",
    "    'pi3k': 'PI3K',\n",
    "    'akt': 'AKT'\n",
    "}\n",
    "\n",
    "DOWNSTREAM_ACTING_PERTS = [\"mek\", \"pi3k\"]\n",
    "\n",
    "perts = []\n",
    "for p_name in vaco_wt.columns:\n",
    "    p_annot = []\n",
    "    p_lst = p_name.split(' + ')\n",
    "    for p in p_lst:\n",
    "        if (p == \"hgf\" or p == 'nrg1'):\n",
    "            p_annot += [p+'pi3k', p+'akt', p+'mek']\n",
    "        else:\n",
    "            p_annot += [p]\n",
    "    perts.append(p_annot)"
   ]
  },
  {
   "cell_type": "code",
   "execution_count": 4,
   "metadata": {},
   "outputs": [],
   "source": [
    "pp = cnr.PerturbationPanel(REF_NODES, perts, TARGETS, DOWNSTREAM_ACTING_PERTS)\n",
    "pp.add_cell_line('wt', vaco_wt)\n",
    "pp.add_cell_line('ko', vaco_ko)\n",
    "pp.add_cell_line('pe', vaco_pe)"
   ]
  },
  {
   "cell_type": "markdown",
   "metadata": {},
   "source": [
    "Heatmaps of the perturbation data (Fig 3C). \n",
    "Note that the color-scheme is inverted compared to the manuscript."
   ]
  },
  {
   "cell_type": "code",
   "execution_count": 5,
   "metadata": {},
   "outputs": [
    {
     "data": {
      "image/png": "[encoded data removed]",
      "text/plain": [
       "<Figure size 1080x135 with 4 Axes>"
      ]
     },
     "metadata": {},
     "output_type": "display_data"
    }
   ],
   "source": [
    "cnr.cnrplot.heatmap_cnr(pp.rglob, vmin=-3, vmax=3)"
   ]
  },
  {
   "cell_type": "markdown",
   "metadata": {},
   "source": [
    "## Scan over number of perturbations"
   ]
  },
  {
   "cell_type": "markdown",
   "metadata": {},
   "source": [
    "Determine resonable number of deviations.\n",
    "Below, we will use all solution pools obtained in this scan to test the robustness of the identified differences."
   ]
  },
  {
   "cell_type": "code",
   "execution_count": 6,
   "metadata": {},
   "outputs": [],
   "source": [
    "%%capture\n",
    "results = dict()\n",
    "for md in range(0, 16):\n",
    "    p = cnr.CnrProblem(pp, prior_network=ALLOWED_INTERACTIONS, maxdevs=md)\n",
    "\n",
    "    p.set_edge_sign(POSITIVE_INTERACTIONS, 'pos')\n",
    "    p.set_edge_sign(NEGATIVE_INTERACTIONS, 'neg')\n",
    "\n",
    "    p.set_pert_sign(POSITIVE_PERTURBATIONS, 'pos')\n",
    "    p.set_pert_sign(NEGATIVE_PERTURBATIONS, 'neg')\n",
    "\n",
    "    p.cpx.solve()\n",
    "    results[md] = cnr.CnrResultPool(p)\n",
    "\n",
    "with open(\"out/cnr-solutions/vaco-pools.pickle\", \"wb\") as handle:\n",
    "    pickle.dump(results, handle)\n",
    "\n",
    "with open(\"out/cnr-solutions/vaco-pools.pickle\", \"rb\") as handle:\n",
    "    results = pickle.load(handle)"
   ]
  },
  {
   "cell_type": "markdown",
   "metadata": {},
   "source": [
    "Figure S6: What is the relation between model fit and the number of differences per cell line?"
   ]
  },
  {
   "cell_type": "code",
   "execution_count": 7,
   "metadata": {},
   "outputs": [
    {
     "data": {
      "image/png": "[encoded data removed]",
      "text/plain": [
       "<Figure size 288x216 with 1 Axes>"
      ]
     },
     "metadata": {},
     "output_type": "display_data"
    }
   ],
   "source": [
    "fig = plt.figure(1, figsize=(4, 3))\n",
    "x, y = zip(*[(key, solpool.solutions[0].mssr) for key, solpool in results.items()])\n",
    "plt.rc('font', family='Arial')\n",
    "plt.plot(x, y, 'o-', color=\"black\")\n",
    "plt.xticks(range(0, 17, 2))\n",
    "plt.xlabel('Number of differences between cells')\n",
    "plt.ylabel('Residuals')\n",
    "plt.tight_layout()"
   ]
  },
  {
   "cell_type": "markdown",
   "metadata": {},
   "source": [
    "## Single solution in detail"
   ]
  },
  {
   "cell_type": "code",
   "execution_count": 117,
   "metadata": {},
   "outputs": [
    {
     "name": "stdout",
     "output_type": "stream",
     "text": [
      "CPXPARAM_Read_DataCheck                          1\n",
      "Found incumbent of value 746.299566 after 0.00 sec. (0.06 ticks)\n",
      "Tried aggregator 2 times.\n",
      "MIQP Presolve eliminated 51 rows and 19 columns.\n",
      "Aggregator did 16 substitutions.\n",
      "Reduced MIQP has 688 rows, 799 columns, and 2219 nonzeros.\n",
      "Reduced MIQP has 28 binaries, 0 generals, 0 SOSs, and 84 indicators.\n",
      "Reduced MIQP objective Q matrix has 619 nonzeros.\n",
      "Presolve time = 0.01 sec. (1.54 ticks)\n",
      "Probing time = 0.00 sec. (0.03 ticks)\n",
      "Tried aggregator 1 time.\n",
      "Reduced MIQP has 688 rows, 799 columns, and 2219 nonzeros.\n",
      "Reduced MIQP has 28 binaries, 0 generals, 0 SOSs, and 84 indicators.\n",
      "Reduced MIQP objective Q matrix has 619 nonzeros.\n",
      "Presolve time = 0.01 sec. (0.73 ticks)\n",
      "Probing time = 0.00 sec. (0.03 ticks)\n",
      "MIP emphasis: balance optimality and feasibility.\n",
      "MIP search method: dynamic search.\n",
      "Parallel mode: deterministic, using up to 4 threads.\n",
      "Root relaxation solution time = 0.04 sec. (8.64 ticks)\n",
      "\n",
      "        Nodes                                         Cuts/\n",
      "   Node  Left     Objective  IInf  Best Integer    Best Bound    ItCnt     Gap\n",
      "\n",
      "*     0+    0                          746.2996        6.7267            99.10%\n",
      "      0     0      104.6909    27      746.2996      104.6909       12   85.97%\n",
      "*     0+    0                          211.3180      104.6909            50.46%\n",
      "*     0+    0                          193.1921      104.6909            45.81%\n",
      "      0     2      104.6909    27      193.1921      104.6909       12   45.81%\n",
      "Elapsed time = 0.27 sec. (38.80 ticks, tree = 0.01 MB, solutions = 3)\n",
      "*    10+    2                          172.0309      104.6909            39.14%\n",
      "*    10+    3                          156.8604      104.6909            33.26%\n",
      "*    48    14      integral     0      120.2116      104.6909      109   12.91%\n",
      "*    52    14      integral     0      117.9764      105.8613      157   10.27%\n",
      "*   117    38      integral     0      117.2588      108.3567      373    7.59%\n",
      "\n",
      "Root node processing (before b&c):\n",
      "  Real time             =    0.26 sec. (37.67 ticks)\n",
      "Parallel b&c, 4 threads:\n",
      "  Real time             =    1.01 sec. (232.13 ticks)\n",
      "  Sync time (average)   =    0.25 sec.\n",
      "  Wait time (average)   =    0.01 sec.\n",
      "                          ------------\n",
      "Total (root+branch&cut) =    1.27 sec. (269.80 ticks)\n",
      "CPXPARAM_Read_DataCheck                          1\n",
      "\n",
      "Populate: phase II \n",
      "Tried aggregator 2 times.\n",
      "MIQP Presolve eliminated 51 rows and 19 columns.\n",
      "Aggregator did 16 substitutions.\n",
      "Reduced MIQP has 688 rows, 799 columns, and 2219 nonzeros.\n",
      "Reduced MIQP has 28 binaries, 0 generals, 0 SOSs, and 84 indicators.\n",
      "Reduced MIQP objective Q matrix has 619 nonzeros.\n",
      "Presolve time = 0.01 sec. (1.54 ticks)\n",
      "Probing time = 0.00 sec. (0.03 ticks)\n",
      "MIP emphasis: balance optimality and feasibility.\n",
      "MIP search method: dynamic search.\n",
      "Parallel mode: deterministic, using up to 4 threads.\n",
      "Root relaxation solution time = 0.05 sec. (8.64 ticks)\n",
      "\n",
      "        Nodes                                         Cuts/\n",
      "   Node  Left     Objective  IInf  Best Integer    Best Bound    ItCnt     Gap\n",
      "\n",
      "*     0+    0                          117.2588        6.7267            94.26%\n",
      "      0     0      104.6909    27      117.2588      104.6909       12   10.72%\n",
      "      0     2      104.6909    27      117.2588      104.6909       12   10.72%\n",
      "Elapsed time = 0.32 sec. (60.08 ticks, tree = 0.01 MB, solutions = 10)\n",
      "\n",
      "Root node processing (before b&c):\n",
      "  Real time             =    0.28 sec. (59.09 ticks)\n",
      "Parallel b&c, 4 threads:\n",
      "  Real time             =    1.34 sec. (982.22 ticks)\n",
      "  Sync time (average)   =    0.64 sec.\n",
      "  Wait time (average)   =    0.00 sec.\n",
      "                          ------------\n",
      "Total (root+branch&cut) =    1.63 sec. (1041.31 ticks)\n"
     ]
    },
    {
     "data": {
      "text/html": [
       "<div>\n",
       "<style scoped>\n",
       "    .dataframe tbody tr th:only-of-type {\n",
       "        vertical-align: middle;\n",
       "    }\n",
       "\n",
       "    .dataframe tbody tr th {\n",
       "        vertical-align: top;\n",
       "    }\n",
       "\n",
       "    .dataframe thead th {\n",
       "        text-align: right;\n",
       "    }\n",
       "</style>\n",
       "<table border=\"1\" class=\"dataframe\">\n",
       "  <thead>\n",
       "    <tr style=\"text-align: right;\">\n",
       "      <th></th>\n",
       "      <th>wt</th>\n",
       "      <th>ko</th>\n",
       "      <th>pe</th>\n",
       "      <th>mean</th>\n",
       "    </tr>\n",
       "  </thead>\n",
       "  <tbody>\n",
       "    <tr>\n",
       "      <th>r_AKT_EGFR</th>\n",
       "      <td>4.39299</td>\n",
       "      <td>1.7623</td>\n",
       "      <td>0</td>\n",
       "      <td>2.05176</td>\n",
       "    </tr>\n",
       "    <tr>\n",
       "      <th>r_MEK_EGFR</th>\n",
       "      <td>0.560493</td>\n",
       "      <td>0.842991</td>\n",
       "      <td>5.70573</td>\n",
       "      <td>2.36974</td>\n",
       "    </tr>\n",
       "    <tr>\n",
       "      <th>r_MEK_ERK</th>\n",
       "      <td>-0.400376</td>\n",
       "      <td>-0.459376</td>\n",
       "      <td>-2.16569</td>\n",
       "      <td>-1.00848</td>\n",
       "    </tr>\n",
       "    <tr>\n",
       "      <th>rp_akt_AKT</th>\n",
       "      <td>-1.13651</td>\n",
       "      <td>-3.00657</td>\n",
       "      <td>-2.17213</td>\n",
       "      <td>-2.10507</td>\n",
       "    </tr>\n",
       "    <tr>\n",
       "      <th>rp_nrg1mek_MEK</th>\n",
       "      <td>0</td>\n",
       "      <td>0.637866</td>\n",
       "      <td>1.81104</td>\n",
       "      <td>0.816301</td>\n",
       "    </tr>\n",
       "    <tr>\n",
       "      <th>rp_plx_MEK</th>\n",
       "      <td>-6.12197</td>\n",
       "      <td>-6.81817</td>\n",
       "      <td>-0.903124</td>\n",
       "      <td>-4.61442</td>\n",
       "    </tr>\n",
       "  </tbody>\n",
       "</table>\n",
       "</div>"
      ],
      "text/plain": [
       "                      wt        ko        pe      mean\n",
       "r_AKT_EGFR       4.39299    1.7623         0   2.05176\n",
       "r_MEK_EGFR      0.560493  0.842991   5.70573   2.36974\n",
       "r_MEK_ERK      -0.400376 -0.459376  -2.16569  -1.00848\n",
       "rp_akt_AKT      -1.13651  -3.00657  -2.17213  -2.10507\n",
       "rp_nrg1mek_MEK         0  0.637866   1.81104  0.816301\n",
       "rp_plx_MEK      -6.12197  -6.81817 -0.903124  -4.61442"
      ]
     },
     "execution_count": 117,
     "metadata": {},
     "output_type": "execute_result"
    }
   ],
   "source": [
    "prob = cnr.CnrProblem(pp, prior_network=ALLOWED_INTERACTIONS, maxdevs=6, maxints=16)\n",
    "\n",
    "prob.set_edge_sign(POSITIVE_INTERACTIONS, 'pos')\n",
    "prob.set_edge_sign(NEGATIVE_INTERACTIONS, 'neg')\n",
    "prob.set_pert_sign(POSITIVE_PERTURBATIONS, 'pos')\n",
    "prob.set_pert_sign(NEGATIVE_PERTURBATIONS, 'neg')\n",
    "\n",
    "\n",
    "prob.cpx.solve()\n",
    "prob.cpx.populate_solution_pool()\n",
    "sol = cnr.CnrResult(prob)\n",
    "sol.deviations_overview()"
   ]
  },
  {
   "cell_type": "code",
   "execution_count": 126,
   "metadata": {},
   "outputs": [
    {
     "data": {
      "text/plain": [
       "array([[1.        , 0.72819591],\n",
       "       [0.72819591, 1.        ]])"
      ]
     },
     "execution_count": 126,
     "metadata": {},
     "output_type": "execute_result"
    }
   ],
   "source": [
    "np.corrcoef(\n",
    "    sol.rglob['wt'].melt().value,\n",
    "    sol.rglob_predicted['wt'].melt().value)\n",
    "    \n",
    "#corrwith(sol.rglob_predicted['wt'].melt()"
   ]
  },
  {
   "cell_type": "markdown",
   "metadata": {},
   "source": [
    "### Prepare graphs\n",
    "\n",
    "Write the obtained solution to a .gml file for visualization using cytoscape.\n",
    "These files are written to the folder out/graphs\n",
    "This folder also contains the cytoscape file style needed to create Fig 4A."
   ]
  },
  {
   "cell_type": "code",
   "execution_count": 9,
   "metadata": {},
   "outputs": [],
   "source": [
    "graph_pos = {\n",
    "    'EGFR': (0.5, -1.),#MAPK\n",
    "    'MEK': (0, -2), \n",
    "    'ERK': (0, -4), \n",
    "    'P90RSK': (0, -6), \n",
    "    'GSK3AB': (0, -8),\n",
    "    'RPS6': (1, -8), \n",
    "    'PI3K': (1, -2), \n",
    "    'AKT': (1, -4), \n",
    "    'MTOR': (1, -6), # AKT\n",
    "    # Pertubation\n",
    "    'hgf': (0.25, 1),\n",
    "    'nrg1': (0.75, 1),\n",
    "    'egf': (0.5, 1),\n",
    "    'pi3k': (1.25, -2.),\n",
    "    'erk': (.375, -4.), \n",
    "    'plx': (-0.275, 0.5),\n",
    "    'mek': (-.275, -2.),\n",
    "    'akt': (.625, -4.)\n",
    "}\n",
    "\n",
    "# This is a function to merge several nodes into one in a Networkx graph\n",
    "\n",
    "def merge_nodes(G, nodes, new_node):\n",
    "    \"\"\"\n",
    "    Merges the selected `nodes` of the graph G into one `new_node`,\n",
    "    meaning that all the edges that pointed to or from one of these\n",
    "    `nodes` will point to or from the `new_node`.\n",
    "    attr_dict and **attr are defined as in `G.add_node`.\n",
    "    \"\"\"\n",
    "    G.add_node(new_node, type= \"perturbation\") # Add the 'merged' node  \n",
    "    new_edges = []\n",
    "    for n1, n2, data in G.edges(data=True):\n",
    "        # For all edges related to one of the nodes to merge,\n",
    "        # make an edge going to or coming from the `new gene`.\n",
    "        if n1 in nodes:\n",
    "            new_edges.append((new_node, n2, data))\n",
    "        elif n2 in nodes:\n",
    "            new_edges.append((n1, new_node,data))\n",
    "    G.add_edges_from(new_edges)\n",
    "    \n",
    "    for n in nodes: # remove the merged nodes\n",
    "        G.remove_node(n)\n",
    "\n",
    "\n",
    "def write_perturbation_gml(G_original, graph_pos, fname, nodes_drop=None, highlight_diff = True):\n",
    "    G = G_original.copy()\n",
    "    pos_x = dict()\n",
    "    pos_y = dict()\n",
    "    for key, val in graph_pos.items():\n",
    "        pos_x[key] = int(150*val[0])\n",
    "        pos_y[key] = int(-30*val[1])\n",
    "\n",
    "    pert_type = {\n",
    "        'hgf': \"stim\",\n",
    "        'nrg1': 'stim',\n",
    "        'egf': 'stim', \n",
    "        'pi3k': 'inhib',\n",
    "        'erk': 'inhib',\n",
    "        'plx': 'inhib',\n",
    "        'mek': 'inhib',\n",
    "        'akt': 'inhib',  \n",
    "    }  \n",
    "    \n",
    "    # Merge nodes originating from same perturbation\n",
    "    mergedict = {\n",
    "    'nrg1': [n for n in G.nodes() if n.startswith('nrg1')],\n",
    "    'hgf': [n for n in G.nodes() if n.startswith('hgf')]\n",
    "    }\n",
    "    \n",
    "    for new_node, nodes in mergedict.items():\n",
    "        merge_nodes(G, nodes, new_node)\n",
    "    nx.set_node_attributes(G, pos_x, name = 'x')\n",
    "    nx.set_node_attributes(G, pos_y, name = 'y')\n",
    "    nx.set_node_attributes(G, pert_type, name = 'ptype')\n",
    "    \n",
    "    nx.set_node_attributes(G, {'nrg1': 'perturbation', 'hgf': 'perturbation'}, 'type')\n",
    "\n",
    "    G = nx.relabel_nodes(G, {'plx': 'braf'})\n",
    "\n",
    "    if nodes_drop:\n",
    "        G.remove_nodes_from(nodes_drop)\n",
    "        \n",
    "    if highlight_diff:\n",
    "        for parent, child in G.edges():\n",
    "            if G[parent][child]['deviation'] == 0.:\n",
    "                G[parent][child]['color'] = 'gray'\n",
    "\n",
    "    nx.write_gml(G, fname)"
   ]
  },
  {
   "cell_type": "code",
   "execution_count": 10,
   "metadata": {},
   "outputs": [],
   "source": [
    "# Merge nodes originating from same perturbation\n",
    "gdict = {cl: cnr.cnrplot.graph_from_sol(sol, cl, widthfactor=2) for cl in sol.cell_lines}\n",
    "\n",
    "for cl, graph in gdict.items():\n",
    "    filename = 'out/graphs/vaco-' + cl + '.gml'\n",
    "    g = write_perturbation_gml(graph, graph_pos, filename)"
   ]
  },
  {
   "cell_type": "markdown",
   "metadata": {},
   "source": [
    "##  Exploration of the solution pools"
   ]
  },
  {
   "cell_type": "code",
   "execution_count": 11,
   "metadata": {},
   "outputs": [],
   "source": [
    "with open(\"out/cnr-solutions/vaco-pools.pickle\", \"rb\") as handle:\n",
    "    pickle.load(handle)"
   ]
  },
  {
   "cell_type": "markdown",
   "metadata": {},
   "source": [
    "Total number of solutions with an objective value less than 150% of the best (for each number of allowed differences)"
   ]
  },
  {
   "cell_type": "code",
   "execution_count": 12,
   "metadata": {},
   "outputs": [
    {
     "data": {
      "text/plain": [
       "150"
      ]
     },
     "execution_count": 12,
     "metadata": {},
     "output_type": "execute_result"
    }
   ],
   "source": [
    "cum_nsols = 0\n",
    "for solpool in results.values():\n",
    "    ovals = list(solpool.objective_values.values())\n",
    "    for o in ovals:\n",
    "        if o <= 1.5 * ovals[0]:\n",
    "            cum_nsols += 1\n",
    "cum_nsols"
   ]
  },
  {
   "cell_type": "code",
   "execution_count": 13,
   "metadata": {},
   "outputs": [],
   "source": [
    "keys = solpool.solutions[0].allowed_deviations.keys()\n",
    "deviationsCount = dict(zip(keys, len(keys)*[0]))\n",
    "\n",
    "best_objective_val = solpool.objective_values[0]\n",
    "for solpool in results.values():\n",
    "    for solidx, sol in solpool.solutions.items():\n",
    "        # Only use solutions with objective value close to optimal\n",
    "        if sol.objective_value < 1.5 * best_objective_val:\n",
    "            for key, val in sol.allowed_deviations.items():\n",
    "                deviationsCount[key] += val\n"
   ]
  },
  {
   "cell_type": "markdown",
   "metadata": {},
   "source": [
    "An overview of the edges that deviate in most solutions.\n",
    "(NB: These results are slightly different as presented in the manuscript.\n",
    "This is presumably due to an update in the version of CPLEX used.\n",
    "While the optimal-solution is cannot change, how the solution pool is populated might differ slightly between versions.\n",
    "Importantly, the same differences are recurrently found. \n",
    "The only thing that changes slightly are the fraction of occurences.)"
   ]
  },
  {
   "cell_type": "code",
   "execution_count": 14,
   "metadata": {},
   "outputs": [
    {
     "data": {
      "text/html": [
       "<div>\n",
       "<style scoped>\n",
       "    .dataframe tbody tr th:only-of-type {\n",
       "        vertical-align: middle;\n",
       "    }\n",
       "\n",
       "    .dataframe tbody tr th {\n",
       "        vertical-align: top;\n",
       "    }\n",
       "\n",
       "    .dataframe thead th {\n",
       "        text-align: right;\n",
       "    }\n",
       "</style>\n",
       "<table border=\"1\" class=\"dataframe\">\n",
       "  <thead>\n",
       "    <tr style=\"text-align: right;\">\n",
       "      <th></th>\n",
       "      <th>occurrences</th>\n",
       "      <th>fraction</th>\n",
       "    </tr>\n",
       "    <tr>\n",
       "      <th>indicator</th>\n",
       "      <th></th>\n",
       "      <th></th>\n",
       "    </tr>\n",
       "  </thead>\n",
       "  <tbody>\n",
       "    <tr>\n",
       "      <th>IrpDev_plx_MEK</th>\n",
       "      <td>145.0</td>\n",
       "      <td>0.97</td>\n",
       "    </tr>\n",
       "    <tr>\n",
       "      <th>IDev_AKT_EGFR</th>\n",
       "      <td>126.0</td>\n",
       "      <td>0.84</td>\n",
       "    </tr>\n",
       "    <tr>\n",
       "      <th>IrpDev_nrg1mek_MEK</th>\n",
       "      <td>114.0</td>\n",
       "      <td>0.76</td>\n",
       "    </tr>\n",
       "    <tr>\n",
       "      <th>IDev_MEK_EGFR</th>\n",
       "      <td>112.0</td>\n",
       "      <td>0.75</td>\n",
       "    </tr>\n",
       "    <tr>\n",
       "      <th>IDev_MEK_ERK</th>\n",
       "      <td>102.0</td>\n",
       "      <td>0.68</td>\n",
       "    </tr>\n",
       "  </tbody>\n",
       "</table>\n",
       "</div>"
      ],
      "text/plain": [
       "                    occurrences  fraction\n",
       "indicator                                \n",
       "IrpDev_plx_MEK            145.0      0.97\n",
       "IDev_AKT_EGFR             126.0      0.84\n",
       "IrpDev_nrg1mek_MEK        114.0      0.76\n",
       "IDev_MEK_EGFR             112.0      0.75\n",
       "IDev_MEK_ERK              102.0      0.68"
      ]
     },
     "execution_count": 14,
     "metadata": {},
     "output_type": "execute_result"
    }
   ],
   "source": [
    "df = pd.DataFrame.from_dict(deviationsCount, orient=\"index\")\n",
    "df.index.name = 'indicator'\n",
    "df = df.sort_values(0, ascending=False)\n",
    "df.columns = ['occurrences']\n",
    "df[\"fraction\"] = np.round(df.occurrences/cum_nsols, 2)\n",
    "df.iloc[0:5].to_csv(\"~/Desktop/test.tsv\", sep = \"\\t\")\n",
    "df.iloc[0:5]\n"
   ]
  },
  {
   "cell_type": "code",
   "execution_count": 15,
   "metadata": {},
   "outputs": [],
   "source": [
    "\n",
    "def deviationDistribution(res, devName):\n",
    "    if devName.split('_')[0] == 'IDev':\n",
    "        base = 'r'\n",
    "    elif devName.split('_')[0] == 'IrpDev':\n",
    "        base = 'rp'\n",
    "    varName = '_'.join([base] + devName.split('_')[1:])\n",
    "    df = pd.DataFrame(columns=['wt', 'ko', 'pe'], dtype=float)\n",
    "\n",
    "    for key, solpool in res.items():\n",
    "        for solidx, sol in solpool.solutions.items():\n",
    "            dev = sol.deviations_overview()\n",
    "            if varName in dev.index:\n",
    "                tmp = dev.loc[varName]\n",
    "                df = df.append(tmp)\n",
    "    return df\n",
    "\n",
    "def plotDeviationDistribution(res, devName, title = None, palette=None, columns = None):\n",
    "    df = deviationDistribution(res, devName)\n",
    "    #sns.set_style(\"white\")\n",
    "    sns.set_context(\"paper\",  font_scale=1.125)\n",
    "    df.columns = ['WT', \"PTPN11 KO\", 'Persister', \"mean\"]\n",
    "    if not columns:\n",
    "        fig = plt.figure(1, figsize=(3, 2));\n",
    "        sns.boxplot(data=df[['WT', 'PTPN11 KO', 'Persister']],\n",
    "                   palette = palette)\n",
    "    else:\n",
    "        fig = plt.figure(1, figsize=(4.5, 3));\n",
    "        sns.boxplot(data=df[columns],\n",
    "                   palette = palette)\n",
    "        \n",
    "    # plt.axhline(y=0, color='k')\n",
    "#     if title is None:\n",
    "#         title = devName\n",
    "#     plt.title(title, fontweight='bold', size=8);\n",
    "#     #plt.tight_layout()\n",
    "    return plt\n"
   ]
  },
  {
   "cell_type": "code",
   "execution_count": 16,
   "metadata": {},
   "outputs": [
    {
     "data": {
      "image/png": "[encoded data removed]",
      "text/plain": [
       "<Figure size 216x144 with 1 Axes>"
      ]
     },
     "metadata": {},
     "output_type": "display_data"
    }
   ],
   "source": [
    "sns.set_context('paper')\n",
    "sns.set_style(\"white\")\n",
    "plotDeviationDistribution(results, 'IDev_AKT_EGFR', palette=(col_wt, col_ko, col_pe))\n",
    "plt.title('Effect of EGFR on AKT', loc=\"left\")\n",
    "sns.despine(bottom=True)\n",
    "plt.axhline(0, color='black')\n",
    "plt.tight_layout()"
   ]
  },
  {
   "cell_type": "code",
   "execution_count": 17,
   "metadata": {},
   "outputs": [
    {
     "data": {
      "image/png": "[encoded data removed]",
      "text/plain": [
       "<Figure size 216x144 with 1 Axes>"
      ]
     },
     "metadata": {},
     "output_type": "display_data"
    }
   ],
   "source": [
    "sns.set_context('paper')\n",
    "plotDeviationDistribution(results, 'IrpDev_plx_MEK', palette=(col_wt, col_ko, col_pe))\n",
    "plt.title('Direct response of MEK to\\nBRAF inhibition', loc=\"left\")\n",
    "sns.despine(bottom=True)\n",
    "plt.axhline(0, color='black')\n",
    "plt.tight_layout()"
   ]
  },
  {
   "cell_type": "code",
   "execution_count": 18,
   "metadata": {},
   "outputs": [
    {
     "data": {
      "image/png": "[encoded data removed]",
      "text/plain": [
       "<Figure size 216x144 with 1 Axes>"
      ]
     },
     "metadata": {},
     "output_type": "display_data"
    }
   ],
   "source": [
    "plotDeviationDistribution(results, 'IDev_MEK_ERK', palette=(col_wt, col_ko, col_pe))\n",
    "plt.title('Effect of ERK on MEK', loc=\"left\")\n",
    "sns.despine(bottom=True, offset=10)\n",
    "plt.axhline(0, color='black')\n",
    "plt.tight_layout()"
   ]
  },
  {
   "cell_type": "code",
   "execution_count": 19,
   "metadata": {},
   "outputs": [
    {
     "data": {
      "image/png": "[encoded data removed]",
      "text/plain": [
       "<Figure size 216x144 with 1 Axes>"
      ]
     },
     "metadata": {},
     "output_type": "display_data"
    }
   ],
   "source": [
    "plotDeviationDistribution(results, 'IrpDev_nrg1mek_MEK', palette=(col_wt, col_ko, col_pe))\n",
    "plt.title('Direct effect of NRG1 on MEK', loc=\"left\")\n",
    "sns.despine(bottom=True, offset=10)\n",
    "plt.axhline(0, color='black')\n",
    "plt.tight_layout()\n"
   ]
  },
  {
   "cell_type": "code",
   "execution_count": 20,
   "metadata": {},
   "outputs": [
    {
     "data": {
      "image/png": "[encoded data removed]",
      "text/plain": [
       "<Figure size 216x144 with 1 Axes>"
      ]
     },
     "metadata": {},
     "output_type": "display_data"
    }
   ],
   "source": [
    "plotDeviationDistribution(results, 'IrpDev_hgfmek_MEK', palette=(col_wt, col_ko, col_pe))\n",
    "plt.title('Direct effect of HGF on MEK', loc=\"left\")\n",
    "sns.despine(bottom=True, offset=10)\n",
    "plt.tight_layout()\n"
   ]
  },
  {
   "cell_type": "markdown",
   "metadata": {},
   "source": [
    "## Leave-one-out cross-validation"
   ]
  },
  {
   "cell_type": "code",
   "execution_count": 25,
   "metadata": {},
   "outputs": [],
   "source": [
    "def loocv_train(test_col_name, prior_network):\n",
    "    \"\"\"Train model leaving out the column test_col_idx\n",
    "    \n",
    "    Parameters:\n",
    "    test_col_idx: name of column to leave out\n",
    "    given_edges: list of tuple indicating which edges are included.\n",
    "    eta, theta, bounds: floats\n",
    "    \n",
    "    returns a tuple (test_col_idx, sol)\n",
    "    \"\"\"\n",
    "    # Get name of Rglob column to remove\n",
    "    test_col_name = vaco_wt.columns[test_col_idx]\n",
    "\n",
    "    # Remove perturbation\n",
    "    pert_copy = perts.copy()\n",
    "    pert_copy.pop(test_col_idx)\n",
    "    \n",
    "    # Define the reduced perturbation panel\n",
    "    train_panel = cnr.PerturbationPanel(\n",
    "        REF_NODES, pert_copy, TARGETS, DOWNSTREAM_ACTING_PERTS,\n",
    "        rglob = {\n",
    "            'wt': vaco_wt.drop(test_col_name, axis=1),\n",
    "            'ko': vaco_ko.drop(test_col_name, axis=1),\n",
    "            'pe': vaco_pe.drop(test_col_name, axis=1),\n",
    "        }\n",
    "    )\n",
    "    prob = cnr.CnrProblem(train_panel, prior_network=ALLOWED_INTERACTIONS,\n",
    "                          maxdevs=6, maxints=16)\n",
    "    prob.set_edge_sign(POSITIVE_INTERACTIONS, 'pos')\n",
    "    prob.set_edge_sign(NEGATIVE_INTERACTIONS, 'neg')\n",
    "    prob.set_pert_sign(POSITIVE_PERTURBATIONS, 'pos')\n",
    "    prob.set_pert_sign(NEGATIVE_PERTURBATIONS, 'neg')\n",
    "\n",
    "    prob.cpx.solve()\n",
    "    return (test_col_name, cnr.CnrResult(prob))"
   ]
  },
  {
   "cell_type": "code",
   "execution_count": 27,
   "metadata": {},
   "outputs": [
    {
     "name": "stdout",
     "output_type": "stream",
     "text": [
      "CPXPARAM_Read_DataCheck                          1\n",
      "Found incumbent of value 735.921267 after 0.00 sec. (0.06 ticks)\n",
      "Tried aggregator 2 times.\n",
      "MIQP Presolve eliminated 51 rows and 19 columns.\n",
      "Aggregator did 16 substitutions.\n",
      "Reduced MIQP has 661 rows, 772 columns, and 2141 nonzeros.\n",
      "Reduced MIQP has 28 binaries, 0 generals, 0 SOSs, and 84 indicators.\n",
      "Reduced MIQP objective Q matrix has 592 nonzeros.\n",
      "Presolve time = 0.01 sec. (1.48 ticks)\n",
      "Probing time = 0.00 sec. (0.03 ticks)\n",
      "Tried aggregator 1 time.\n",
      "Reduced MIQP has 661 rows, 772 columns, and 2141 nonzeros.\n",
      "Reduced MIQP has 28 binaries, 0 generals, 0 SOSs, and 84 indicators.\n",
      "Reduced MIQP objective Q matrix has 592 nonzeros.\n",
      "Presolve time = 0.01 sec. (0.70 ticks)\n",
      "Probing time = 0.00 sec. (0.03 ticks)\n",
      "MIP emphasis: balance optimality and feasibility.\n",
      "MIP search method: dynamic search.\n",
      "Parallel mode: deterministic, using up to 4 threads.\n",
      "Root relaxation solution time = 0.05 sec. (8.37 ticks)\n",
      "\n",
      "        Nodes                                         Cuts/\n",
      "   Node  Left     Objective  IInf  Best Integer    Best Bound    ItCnt     Gap\n",
      "\n",
      "*     0+    0                          735.9213        6.7069            99.09%\n",
      "      0     0      102.4558    27      735.9213      102.4558       13   86.08%\n",
      "*     0+    0                          209.6290      102.4558            51.13%\n",
      "*     0+    0                          190.6934      102.4558            46.27%\n",
      "      0     2      102.4558    27      190.6934      102.4558       13   46.27%\n",
      "Elapsed time = 0.27 sec. (37.30 ticks, tree = 0.01 MB, solutions = 3)\n",
      "*    10+    2                          169.6162      102.4558            39.60%\n",
      "*    10+    3                          155.1448      102.4558            33.96%\n",
      "*    48    15      integral     0      117.4847      102.4558      108   12.79%\n",
      "*    52    12      integral     0      116.0130      103.6301      160   10.67%\n",
      "*    75     9      integral     0      114.2941      103.8846      253    9.11%\n",
      "\n",
      "Root node processing (before b&c):\n",
      "  Real time             =    0.26 sec. (36.23 ticks)\n",
      "Parallel b&c, 4 threads:\n",
      "  Real time             =    1.07 sec. (226.16 ticks)\n",
      "  Sync time (average)   =    0.29 sec.\n",
      "  Wait time (average)   =    0.02 sec.\n",
      "                          ------------\n",
      "Total (root+branch&cut) =    1.34 sec. (262.39 ticks)\n"
     ]
    }
   ],
   "source": [
    "tmp = loocv_train(0, prior_network=ALLOWED_INTERACTIONS)"
   ]
  },
  {
   "cell_type": "code",
   "execution_count": 42,
   "metadata": {},
   "outputs": [],
   "source": [
    "%%capture\n",
    "cols_to_test = [i for i in range(len(list(vaco_wt.columns))) \n",
    "                if \"+\" in list(vaco_wt.columns)[i]]\n",
    "loocv_sols = [loocv_train(i, ALLOWED_INTERACTIONS) for i in cols_to_test]"
   ]
  },
  {
   "cell_type": "code",
   "execution_count": 57,
   "metadata": {},
   "outputs": [],
   "source": [
    "def predict_combo(sol, combo):\n",
    "    d = dict()\n",
    "    for cl in [\"wt\", \"ko\", \"pe\"]:\n",
    "        rpert = pd.DataFrame(index = sol.nodes)\n",
    "        rpert[combo] = sol.rpert[cl][combo.split(\" + \")].sum(axis = 1)\n",
    "        rloc = sol.rloc[cl]\n",
    "        mat =  -np.dot(np.linalg.inv(rloc), rpert)\n",
    "        d[cl] = pd.DataFrame(mat, index = rpert.index, columns = rpert.columns)\n",
    "    return d\n",
    "\n",
    "\n",
    "def loocv_predict(loocv_sols):\n",
    "    # Input is list of form combo-name (str), solution (CnrResult)\n",
    "    prediction = {\n",
    "        'wt': pd.DataFrame(index = loocv_sols[0][1].nodes),\n",
    "        'ko': pd.DataFrame(index = loocv_sols[0][1].nodes),\n",
    "        'pe': pd.DataFrame(index = loocv_sols[0][1].nodes)\n",
    "    }\n",
    "    \n",
    "    for combo, sol in loocv_sols:\n",
    "        p = predict_combo(sol, combo)\n",
    "        prediction['wt'][combo] = p['wt']\n",
    "        prediction['ko'][combo] = p['ko']\n",
    "        prediction['pe'][combo] = p['pe']\n",
    "    return prediction\n"
   ]
  },
  {
   "cell_type": "code",
   "execution_count": 81,
   "metadata": {},
   "outputs": [
    {
     "data": {
      "text/plain": [
       "[]"
      ]
     },
     "execution_count": 81,
     "metadata": {},
     "output_type": "execute_result"
    },
    {
     "data": {
      "image/png": "[encoded data removed]",
      "text/plain": [
       "<Figure size 432x288 with 1 Axes>"
      ]
     },
     "metadata": {},
     "output_type": "display_data"
    }
   ],
   "source": [
    "plt.plot(x=, y=)\n"
   ]
  },
  {
   "cell_type": "code",
   "execution_count": 91,
   "metadata": {},
   "outputs": [
    {
     "data": {
      "text/plain": [
       "[<matplotlib.lines.Line2D at 0x1a34147390>]"
      ]
     },
     "execution_count": 91,
     "metadata": {},
     "output_type": "execute_result"
    },
    {
     "data": {
      "image/png": "[encoded data removed]",
      "text/plain": [
       "<Figure size 432x288 with 1 Axes>"
      ]
     },
     "metadata": {},
     "output_type": "display_data"
    }
   ],
   "source": [
    "plt.plot(\n",
    "    np.array(loocv_predict(loocv_sols)['wt']).flatten(),\n",
    "    np.array(vaco_wt.iloc[:, cols_to_test]).flatten(),\n",
    "    'o', color = col_wt\n",
    ")\n",
    "plt.plot(\n",
    "    np.array(loocv_predict(loocv_sols)['ko']).flatten(),\n",
    "    np.array(vaco_ko.iloc[:, cols_to_test]).flatten(),\n",
    "    'o', color = col_ko\n",
    ")\n",
    "plt.plot(\n",
    "    np.array(loocv_predict(loocv_sols)['pe']).flatten(),\n",
    "    np.array().flatten(),\n",
    "    'o', color = col_pe\n",
    ")\n",
    "    "
   ]
  },
  {
   "cell_type": "code",
   "execution_count": 98,
   "metadata": {},
   "outputs": [],
   "source": [
    "combos = {\n",
    "    \"wt\": vaco_wt.iloc[:, cols_to_test],\n",
    "    \"ko\": vaco_ko.iloc[:, cols_to_test],\n",
    "    \"pe\": vaco_pe.iloc[:, cols_to_test]\n",
    "}"
   ]
  },
  {
   "cell_type": "code",
   "execution_count": 99,
   "metadata": {},
   "outputs": [
    {
     "data": {
      "image/png": "[encoded data removed]",
      "text/plain": [
       "<Figure size 1080x202.5 with 4 Axes>"
      ]
     },
     "metadata": {},
     "output_type": "display_data"
    },
    {
     "data": {
      "image/png": "[encoded data removed]",
      "text/plain": [
       "<Figure size 1080x202.5 with 4 Axes>"
      ]
     },
     "metadata": {},
     "output_type": "display_data"
    }
   ],
   "source": [
    "cnr.cnrplot.heatmap_cnr(loocv_predict(loocv_sols), vmin=-6, vmax=6)\n",
    "\n",
    "cnr.cnrplot.heatmap_cnr(combos, vmin=-6, vmax=6)"
   ]
  },
  {
   "cell_type": "code",
   "execution_count": 104,
   "metadata": {},
   "outputs": [
    {
     "data": {
      "text/plain": [
       "0.7194685938521964"
      ]
     },
     "execution_count": 104,
     "metadata": {},
     "output_type": "execute_result"
    }
   ],
   "source": [
    "\"\"\n",
    "np.corrcoef(\n",
    "    np.array(loocv_predict(loocv_sols)['wt']).flatten(),\n",
    "    np.array(vaco_wt.iloc[:, cols_to_test]).flatten()\n",
    ")[0,1]\n",
    "# np.corrcoef(\n",
    "#     np.array(loocv_predict(loocv_sols)['wt']).flatten(),\n",
    "#     np.array(vaco_wt.iloc[:, cols_to_test]).flatten()\n",
    "# )\n",
    "# np.corrcoef(\n",
    "#     np.array(loocv_predict(loocv_sols)['wt']).flatten(),\n",
    "#     np.array(vaco_wt.iloc[:, cols_to_test]).flatten()\n",
    "# )\n",
    "#     np.array(loocv_predict(loocv_sols)['ko']).flatten(),\n",
    "#     np.array(vaco_ko.iloc[:, cols_to_test]).flatten(),\n",
    "#     'o', color = col_ko\n",
    "# )\n",
    "# plt.plot(\n",
    "#     np.array(loocv_predict(loocv_sols)['pe']).flatten(),\n",
    "#     np.array().flatten(),\n",
    "#     'o', color = col_pe\n",
    "# )\n",
    "#     )"
   ]
  },
  {
   "cell_type": "code",
   "execution_count": 118,
   "metadata": {},
   "outputs": [
    {
     "data": {
      "text/html": [
       "<div>\n",
       "<style scoped>\n",
       "    .dataframe tbody tr th:only-of-type {\n",
       "        vertical-align: middle;\n",
       "    }\n",
       "\n",
       "    .dataframe tbody tr th {\n",
       "        vertical-align: top;\n",
       "    }\n",
       "\n",
       "    .dataframe thead th {\n",
       "        text-align: right;\n",
       "    }\n",
       "</style>\n",
       "<table border=\"1\" class=\"dataframe\">\n",
       "  <thead>\n",
       "    <tr style=\"text-align: right;\">\n",
       "      <th></th>\n",
       "      <th>EGFR</th>\n",
       "      <th>MEK</th>\n",
       "      <th>ERK</th>\n",
       "      <th>P90RSK</th>\n",
       "      <th>GSK3AB</th>\n",
       "      <th>RPS6</th>\n",
       "      <th>PI3K</th>\n",
       "      <th>AKT</th>\n",
       "      <th>MTOR</th>\n",
       "    </tr>\n",
       "  </thead>\n",
       "  <tbody>\n",
       "    <tr>\n",
       "      <th>EGFR</th>\n",
       "      <td>-1.000000</td>\n",
       "      <td>-0.000000</td>\n",
       "      <td>-1.110223e-16</td>\n",
       "      <td>-0.000000</td>\n",
       "      <td>-0.0</td>\n",
       "      <td>-0.000000</td>\n",
       "      <td>-0.000000</td>\n",
       "      <td>-0.000000</td>\n",
       "      <td>-0.000000</td>\n",
       "    </tr>\n",
       "    <tr>\n",
       "      <th>MEK</th>\n",
       "      <td>0.560493</td>\n",
       "      <td>-1.000000</td>\n",
       "      <td>-4.003758e-01</td>\n",
       "      <td>-0.000000</td>\n",
       "      <td>-0.0</td>\n",
       "      <td>-0.000000</td>\n",
       "      <td>-0.000000</td>\n",
       "      <td>-0.000000</td>\n",
       "      <td>-0.000000</td>\n",
       "    </tr>\n",
       "    <tr>\n",
       "      <th>ERK</th>\n",
       "      <td>-0.000000</td>\n",
       "      <td>0.118298</td>\n",
       "      <td>-1.000000e+00</td>\n",
       "      <td>-0.000000</td>\n",
       "      <td>-0.0</td>\n",
       "      <td>-0.000000</td>\n",
       "      <td>-0.000000</td>\n",
       "      <td>-0.000000</td>\n",
       "      <td>-0.000000</td>\n",
       "    </tr>\n",
       "    <tr>\n",
       "      <th>P90RSK</th>\n",
       "      <td>-0.000000</td>\n",
       "      <td>-0.000000</td>\n",
       "      <td>4.574468e-01</td>\n",
       "      <td>-1.000000</td>\n",
       "      <td>-0.0</td>\n",
       "      <td>-0.000000</td>\n",
       "      <td>-0.000000</td>\n",
       "      <td>-0.000000</td>\n",
       "      <td>-0.000000</td>\n",
       "    </tr>\n",
       "    <tr>\n",
       "      <th>GSK3AB</th>\n",
       "      <td>-0.000000</td>\n",
       "      <td>-0.000000</td>\n",
       "      <td>-0.000000e+00</td>\n",
       "      <td>0.349957</td>\n",
       "      <td>-1.0</td>\n",
       "      <td>-0.000000</td>\n",
       "      <td>-0.000000</td>\n",
       "      <td>0.255415</td>\n",
       "      <td>-0.000000</td>\n",
       "    </tr>\n",
       "    <tr>\n",
       "      <th>RPS6</th>\n",
       "      <td>-0.000000</td>\n",
       "      <td>-0.000000</td>\n",
       "      <td>4.686500e-01</td>\n",
       "      <td>-0.000000</td>\n",
       "      <td>-0.0</td>\n",
       "      <td>-1.000000</td>\n",
       "      <td>-0.000000</td>\n",
       "      <td>-0.000000</td>\n",
       "      <td>0.510700</td>\n",
       "    </tr>\n",
       "    <tr>\n",
       "      <th>PI3K</th>\n",
       "      <td>0.351489</td>\n",
       "      <td>-0.000000</td>\n",
       "      <td>-0.000000e+00</td>\n",
       "      <td>-0.000000</td>\n",
       "      <td>-0.0</td>\n",
       "      <td>0.000000</td>\n",
       "      <td>-1.000000</td>\n",
       "      <td>-0.000000</td>\n",
       "      <td>-0.000000</td>\n",
       "    </tr>\n",
       "    <tr>\n",
       "      <th>AKT</th>\n",
       "      <td>4.392992</td>\n",
       "      <td>-0.000000</td>\n",
       "      <td>-0.000000e+00</td>\n",
       "      <td>-0.000000</td>\n",
       "      <td>-0.0</td>\n",
       "      <td>-0.000000</td>\n",
       "      <td>0.042083</td>\n",
       "      <td>-1.000000</td>\n",
       "      <td>2.657003</td>\n",
       "    </tr>\n",
       "    <tr>\n",
       "      <th>MTOR</th>\n",
       "      <td>-0.000000</td>\n",
       "      <td>-0.000000</td>\n",
       "      <td>-0.000000e+00</td>\n",
       "      <td>-0.000000</td>\n",
       "      <td>-0.0</td>\n",
       "      <td>0.240535</td>\n",
       "      <td>-0.000000</td>\n",
       "      <td>0.152475</td>\n",
       "      <td>-1.000000</td>\n",
       "    </tr>\n",
       "  </tbody>\n",
       "</table>\n",
       "</div>"
      ],
      "text/plain": [
       "            EGFR       MEK           ERK    P90RSK  GSK3AB      RPS6  \\\n",
       "EGFR   -1.000000 -0.000000 -1.110223e-16 -0.000000    -0.0 -0.000000   \n",
       "MEK     0.560493 -1.000000 -4.003758e-01 -0.000000    -0.0 -0.000000   \n",
       "ERK    -0.000000  0.118298 -1.000000e+00 -0.000000    -0.0 -0.000000   \n",
       "P90RSK -0.000000 -0.000000  4.574468e-01 -1.000000    -0.0 -0.000000   \n",
       "GSK3AB -0.000000 -0.000000 -0.000000e+00  0.349957    -1.0 -0.000000   \n",
       "RPS6   -0.000000 -0.000000  4.686500e-01 -0.000000    -0.0 -1.000000   \n",
       "PI3K    0.351489 -0.000000 -0.000000e+00 -0.000000    -0.0  0.000000   \n",
       "AKT     4.392992 -0.000000 -0.000000e+00 -0.000000    -0.0 -0.000000   \n",
       "MTOR   -0.000000 -0.000000 -0.000000e+00 -0.000000    -0.0  0.240535   \n",
       "\n",
       "            PI3K       AKT      MTOR  \n",
       "EGFR   -0.000000 -0.000000 -0.000000  \n",
       "MEK    -0.000000 -0.000000 -0.000000  \n",
       "ERK    -0.000000 -0.000000 -0.000000  \n",
       "P90RSK -0.000000 -0.000000 -0.000000  \n",
       "GSK3AB -0.000000  0.255415 -0.000000  \n",
       "RPS6   -0.000000 -0.000000  0.510700  \n",
       "PI3K   -1.000000 -0.000000 -0.000000  \n",
       "AKT     0.042083 -1.000000  2.657003  \n",
       "MTOR   -0.000000  0.152475 -1.000000  "
      ]
     },
     "execution_count": 118,
     "metadata": {},
     "output_type": "execute_result"
    }
   ],
   "source": [
    "#np.array(sol.rglob[\"wt\"]).flatten()\n"
   ]
  },
  {
   "cell_type": "code",
   "execution_count": null,
   "metadata": {},
   "outputs": [],
   "source": []
  }
 ],
 "metadata": {
  "anaconda-cloud": {},
  "kernelspec": {
   "display_name": "Python 3",
   "language": "python",
   "name": "python3"
  },
  "language_info": {
   "codemirror_mode": {
    "name": "ipython",
    "version": 3
   },
   "file_extension": ".py",
   "mimetype": "text/x-python",
   "name": "python",
   "nbconvert_exporter": "python",
   "pygments_lexer": "ipython3",
   "version": "3.6.5"
  },
  "toc": {
   "base_numbering": 1,
   "nav_menu": {},
   "number_sections": true,
   "sideBar": true,
   "skip_h1_title": true,
   "title_cell": "Table of Contents",
   "title_sidebar": "Contents",
   "toc_cell": true,
   "toc_position": {},
   "toc_section_display": true,
   "toc_window_display": true
  },
  "varInspector": {
   "cols": {
    "lenName": 16,
    "lenType": 16,
    "lenVar": 40
   },
   "kernels_config": {
    "python": {
     "delete_cmd_postfix": "",
     "delete_cmd_prefix": "del ",
     "library": "var_list.py",
     "varRefreshCmd": "print(var_dic_list())"
    },
    "r": {
     "delete_cmd_postfix": ") ",
     "delete_cmd_prefix": "rm(",
     "library": "var_list.r",
     "varRefreshCmd": "cat(var_dic_list()) "
    }
   },
   "types_to_exclude": [
    "module",
    "function",
    "builtin_function_or_method",
    "instance",
    "_Feature"
   ],
   "window_display": false
  }
 },
 "nbformat": 4,
 "nbformat_minor": 1
}
